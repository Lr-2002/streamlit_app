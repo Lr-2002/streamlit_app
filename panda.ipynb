{
 "cells": [
  {
   "cell_type": "code",
   "execution_count": 1,
   "outputs": [
    {
     "name": "stderr",
     "output_type": "stream",
     "text": [
      "C:\\Users\\ASUS\\anaconda3\\lib\\site-packages\\numpy\\_distributor_init.py:30: UserWarning: loaded more than 1 DLL from .libs:\n",
      "C:\\Users\\ASUS\\anaconda3\\lib\\site-packages\\numpy\\.libs\\libopenblas.EL2C6PLE4ZYW3ECEVIV3OXXGRN2NRFM2.gfortran-win_amd64.dll\n",
      "C:\\Users\\ASUS\\anaconda3\\lib\\site-packages\\numpy\\.libs\\libopenblas.QVLO2T66WEPI7JZ63PS3HMOHFEY472BC.gfortran-win_amd64.dll\n",
      "C:\\Users\\ASUS\\anaconda3\\lib\\site-packages\\numpy\\.libs\\libopenblas.WCDJNK7YVMPZQ2ME2ZZHJJRJ3JIKNDB7.gfortran-win_amd64.dll\n",
      "  warnings.warn(\"loaded more than 1 DLL from .libs:\"\n"
     ]
    }
   ],
   "source": [
    "import pandas as pd"
   ],
   "metadata": {
    "collapsed": false,
    "pycharm": {
     "name": "#%%\n"
    }
   }
  },
  {
   "cell_type": "code",
   "execution_count": 2,
   "outputs": [
    {
     "data": {
      "text/plain": "   序号        日期   班组           物资编码       物资名称      规格型号/图号/材质 计量单位      单价  \\\n0   1  2022.8.1  检修组  255100010401   弹簧垫圈（4mm）         4mm 不锈钢   百个    4.00   \n1   2  2022.8.2  综合组  250000011015    六角头螺栓-C级  M10×30mm 4.8 钢   百个   27.35   \n2   3  2022.8.3  检修组   14090000389       螺栓松动剂           250ml    瓶   11.50   \n3   4  2022.8.4  乘务队  955100002732       电茶炉胶垫     190×170 10孔    个   48.39   \n4   5  2022.8.5  检修组  520810100111     硒鼓（88A）          HP 88A    个  110.73   \n\n    数量      金额               科目编号  科目名称  \n0  1.0    4.00  6401-1-3421-2-1-1   D1修  \n1  2.0   54.70  6401-1-3421-2-1-1   D1修  \n2  2.0   23.00  6401-1-3421-2-1-1   D1修  \n3  2.0   96.78  6401-1-3421-2-1-1   D1修  \n4  2.0  221.46  6401-1-3615-1-1-1  微机耗材  ",
      "text/html": "<div>\n<style scoped>\n    .dataframe tbody tr th:only-of-type {\n        vertical-align: middle;\n    }\n\n    .dataframe tbody tr th {\n        vertical-align: top;\n    }\n\n    .dataframe thead th {\n        text-align: right;\n    }\n</style>\n<table border=\"1\" class=\"dataframe\">\n  <thead>\n    <tr style=\"text-align: right;\">\n      <th></th>\n      <th>序号</th>\n      <th>日期</th>\n      <th>班组</th>\n      <th>物资编码</th>\n      <th>物资名称</th>\n      <th>规格型号/图号/材质</th>\n      <th>计量单位</th>\n      <th>单价</th>\n      <th>数量</th>\n      <th>金额</th>\n      <th>科目编号</th>\n      <th>科目名称</th>\n    </tr>\n  </thead>\n  <tbody>\n    <tr>\n      <th>0</th>\n      <td>1</td>\n      <td>2022.8.1</td>\n      <td>检修组</td>\n      <td>255100010401</td>\n      <td>弹簧垫圈（4mm）</td>\n      <td>4mm 不锈钢</td>\n      <td>百个</td>\n      <td>4.00</td>\n      <td>1.0</td>\n      <td>4.00</td>\n      <td>6401-1-3421-2-1-1</td>\n      <td>D1修</td>\n    </tr>\n    <tr>\n      <th>1</th>\n      <td>2</td>\n      <td>2022.8.2</td>\n      <td>综合组</td>\n      <td>250000011015</td>\n      <td>六角头螺栓-C级</td>\n      <td>M10×30mm 4.8 钢</td>\n      <td>百个</td>\n      <td>27.35</td>\n      <td>2.0</td>\n      <td>54.70</td>\n      <td>6401-1-3421-2-1-1</td>\n      <td>D1修</td>\n    </tr>\n    <tr>\n      <th>2</th>\n      <td>3</td>\n      <td>2022.8.3</td>\n      <td>检修组</td>\n      <td>14090000389</td>\n      <td>螺栓松动剂</td>\n      <td>250ml</td>\n      <td>瓶</td>\n      <td>11.50</td>\n      <td>2.0</td>\n      <td>23.00</td>\n      <td>6401-1-3421-2-1-1</td>\n      <td>D1修</td>\n    </tr>\n    <tr>\n      <th>3</th>\n      <td>4</td>\n      <td>2022.8.4</td>\n      <td>乘务队</td>\n      <td>955100002732</td>\n      <td>电茶炉胶垫</td>\n      <td>190×170 10孔</td>\n      <td>个</td>\n      <td>48.39</td>\n      <td>2.0</td>\n      <td>96.78</td>\n      <td>6401-1-3421-2-1-1</td>\n      <td>D1修</td>\n    </tr>\n    <tr>\n      <th>4</th>\n      <td>5</td>\n      <td>2022.8.5</td>\n      <td>检修组</td>\n      <td>520810100111</td>\n      <td>硒鼓（88A）</td>\n      <td>HP 88A</td>\n      <td>个</td>\n      <td>110.73</td>\n      <td>2.0</td>\n      <td>221.46</td>\n      <td>6401-1-3615-1-1-1</td>\n      <td>微机耗材</td>\n    </tr>\n  </tbody>\n</table>\n</div>"
     },
     "execution_count": 2,
     "metadata": {},
     "output_type": "execute_result"
    }
   ],
   "source": [
    "df = pd.read_csv('./full.csv',encoding='gbk')\n",
    "df.head()"
   ],
   "metadata": {
    "collapsed": false,
    "pycharm": {
     "name": "#%%\n"
    }
   }
  },
  {
   "cell_type": "code",
   "execution_count": 3,
   "outputs": [
    {
     "data": {
      "text/plain": "{'序号': {0: 1, 1: 2, 2: 3, 3: 4, 4: 5, 5: 6, 6: 7, 7: 8, 8: 9, 9: 10, 10: 11},\n '日期': {0: '2022.8.1',\n  1: '2022.8.2',\n  2: '2022.8.3',\n  3: '2022.8.4',\n  4: '2022.8.5',\n  5: '2022.8.6',\n  6: '2022.8.7',\n  7: '2022.8.8',\n  8: '2022.8.9',\n  9: '2022.8.10',\n  10: '2022.8.11'},\n '班组': {0: '检修组',\n  1: '综合组',\n  2: '检修组',\n  3: '乘务队',\n  4: '检修组',\n  5: '综合组',\n  6: '乘务队',\n  7: '综合组',\n  8: '综合组',\n  9: '综合组',\n  10: nan},\n '物资编码': {0: '255100010401 ',\n  1: '250000011015 ',\n  2: '14090000389 ',\n  3: '955100002732 ',\n  4: '520810100111 ',\n  5: '520810100334 ',\n  6: '17400072020 ',\n  7: 'E21004002674',\n  8: 'J03003000515',\n  9: '18840005400 ',\n  10: '255100010401 '},\n '物资名称': {0: '弹簧垫圈（4mm）',\n  1: '六角头螺栓-C级',\n  2: '螺栓松动剂',\n  3: '电茶炉胶垫',\n  4: '硒鼓（88A）',\n  5: '硒鼓（230A）',\n  6: '复印纸(A3)',\n  7: '地板刷',\n  8: '百洁布',\n  9: '中性笔',\n  10: '弹簧垫圈（4mm）'},\n '规格型号/图号/材质': {0: '4mm 不锈钢',\n  1: 'M10×30mm 4.8 钢',\n  2: '250ml',\n  3: '190×170 10孔',\n  4: 'HP 88A',\n  5: 'HP CF230A',\n  6: 'A3 定量70g/㎡ 宽297×长420mm 2000张/箱',\n  7: '规格型号:2寸+3.5寸+4寸+5寸实心+5寸空心;',\n  8: '规格型号:普通款;',\n  9: '晨光GP1008 0.5mm 黑色 12支/盒',\n  10: '4mm 不锈钢'},\n '计量单位': {0: '百个',\n  1: '百个',\n  2: '瓶',\n  3: '个',\n  4: '个',\n  5: '支',\n  6: '箱',\n  7: '个',\n  8: '个',\n  9: '盒',\n  10: '百个'},\n '单价': {0: 4.0,\n  1: 27.35,\n  2: 11.5,\n  3: 48.39,\n  4: 110.73,\n  5: 59.86,\n  6: 194.25,\n  7: 50.27,\n  8: 2.48,\n  9: 16.19,\n  10: 4.0},\n '数量': {0: 1.0,\n  1: 2.0,\n  2: 2.0,\n  3: 2.0,\n  4: 2.0,\n  5: 2.0,\n  6: 2.0,\n  7: 2.0,\n  8: 2.0,\n  9: 2.0,\n  10: nan},\n '金额': {0: 4.0,\n  1: 54.7,\n  2: 23.0,\n  3: 96.78,\n  4: 221.46,\n  5: 119.72,\n  6: 388.5,\n  7: 100.54,\n  8: 4.96,\n  9: 32.38,\n  10: 0.0},\n '科目编号': {0: '6401-1-3421-2-1-1',\n  1: '6401-1-3421-2-1-1',\n  2: '6401-1-3421-2-1-1',\n  3: '6401-1-3421-2-1-1',\n  4: '6401-1-3615-1-1-1',\n  5: '6401-1-3615-1-1-1',\n  6: '6401-1-3615-1-1-1',\n  7: '6401-1-3421-2-1-1',\n  8: '6401-1-3421-2-1-1',\n  9: '6401-1-3610-1-2',\n  10: '6401-1-3421-2-1-1'},\n '科目名称': {0: 'D1修',\n  1: 'D1修',\n  2: 'D1修',\n  3: 'D1修',\n  4: '微机耗材',\n  5: '微机耗材',\n  6: '微机耗材',\n  7: 'D1修',\n  8: 'D1修',\n  9: '纸张表格、文具等办公用品',\n  10: 'D1修'}}"
     },
     "execution_count": 3,
     "metadata": {},
     "output_type": "execute_result"
    }
   ],
   "source": [
    "df.to_dict()"
   ],
   "metadata": {
    "collapsed": false,
    "pycharm": {
     "name": "#%%\n"
    }
   }
  },
  {
   "cell_type": "markdown",
   "source": [],
   "metadata": {
    "collapsed": false,
    "pycharm": {
     "name": "#%% md\n"
    }
   }
  },
  {
   "cell_type": "code",
   "execution_count": 4,
   "outputs": [
    {
     "data": {
      "text/plain": "   序号        日期   班组           物资编码       物资名称      规格型号/图号/材质 计量单位      单价  \\\n0   1  2022.8.1  检修组  255100010401   弹簧垫圈（4mm）         4mm 不锈钢   百个    4.00   \n1   2  2022.8.2  综合组  250000011015    六角头螺栓-C级  M10×30mm 4.8 钢   百个   27.35   \n2   3  2022.8.3  检修组   14090000389       螺栓松动剂           250ml    瓶   11.50   \n3   4  2022.8.4  乘务队  955100002732       电茶炉胶垫     190×170 10孔    个   48.39   \n4   5  2022.8.5  检修组  520810100111     硒鼓（88A）          HP 88A    个  110.73   \n\n    数量      金额               科目编号  科目名称      go  \n0  1.0    4.00  6401-1-3421-2-1-1   D1修    4.00  \n1  2.0   54.70  6401-1-3421-2-1-1   D1修   54.70  \n2  2.0   23.00  6401-1-3421-2-1-1   D1修   23.00  \n3  2.0   96.78  6401-1-3421-2-1-1   D1修   96.78  \n4  2.0  221.46  6401-1-3615-1-1-1  微机耗材  221.46  ",
      "text/html": "<div>\n<style scoped>\n    .dataframe tbody tr th:only-of-type {\n        vertical-align: middle;\n    }\n\n    .dataframe tbody tr th {\n        vertical-align: top;\n    }\n\n    .dataframe thead th {\n        text-align: right;\n    }\n</style>\n<table border=\"1\" class=\"dataframe\">\n  <thead>\n    <tr style=\"text-align: right;\">\n      <th></th>\n      <th>序号</th>\n      <th>日期</th>\n      <th>班组</th>\n      <th>物资编码</th>\n      <th>物资名称</th>\n      <th>规格型号/图号/材质</th>\n      <th>计量单位</th>\n      <th>单价</th>\n      <th>数量</th>\n      <th>金额</th>\n      <th>科目编号</th>\n      <th>科目名称</th>\n      <th>go</th>\n    </tr>\n  </thead>\n  <tbody>\n    <tr>\n      <th>0</th>\n      <td>1</td>\n      <td>2022.8.1</td>\n      <td>检修组</td>\n      <td>255100010401</td>\n      <td>弹簧垫圈（4mm）</td>\n      <td>4mm 不锈钢</td>\n      <td>百个</td>\n      <td>4.00</td>\n      <td>1.0</td>\n      <td>4.00</td>\n      <td>6401-1-3421-2-1-1</td>\n      <td>D1修</td>\n      <td>4.00</td>\n    </tr>\n    <tr>\n      <th>1</th>\n      <td>2</td>\n      <td>2022.8.2</td>\n      <td>综合组</td>\n      <td>250000011015</td>\n      <td>六角头螺栓-C级</td>\n      <td>M10×30mm 4.8 钢</td>\n      <td>百个</td>\n      <td>27.35</td>\n      <td>2.0</td>\n      <td>54.70</td>\n      <td>6401-1-3421-2-1-1</td>\n      <td>D1修</td>\n      <td>54.70</td>\n    </tr>\n    <tr>\n      <th>2</th>\n      <td>3</td>\n      <td>2022.8.3</td>\n      <td>检修组</td>\n      <td>14090000389</td>\n      <td>螺栓松动剂</td>\n      <td>250ml</td>\n      <td>瓶</td>\n      <td>11.50</td>\n      <td>2.0</td>\n      <td>23.00</td>\n      <td>6401-1-3421-2-1-1</td>\n      <td>D1修</td>\n      <td>23.00</td>\n    </tr>\n    <tr>\n      <th>3</th>\n      <td>4</td>\n      <td>2022.8.4</td>\n      <td>乘务队</td>\n      <td>955100002732</td>\n      <td>电茶炉胶垫</td>\n      <td>190×170 10孔</td>\n      <td>个</td>\n      <td>48.39</td>\n      <td>2.0</td>\n      <td>96.78</td>\n      <td>6401-1-3421-2-1-1</td>\n      <td>D1修</td>\n      <td>96.78</td>\n    </tr>\n    <tr>\n      <th>4</th>\n      <td>5</td>\n      <td>2022.8.5</td>\n      <td>检修组</td>\n      <td>520810100111</td>\n      <td>硒鼓（88A）</td>\n      <td>HP 88A</td>\n      <td>个</td>\n      <td>110.73</td>\n      <td>2.0</td>\n      <td>221.46</td>\n      <td>6401-1-3615-1-1-1</td>\n      <td>微机耗材</td>\n      <td>221.46</td>\n    </tr>\n  </tbody>\n</table>\n</div>"
     },
     "execution_count": 4,
     "metadata": {},
     "output_type": "execute_result"
    }
   ],
   "source": [
    "df= pd.read_csv('./full.csv', encoding='gbk')\n",
    "# df.info()\n",
    "# df.index\n",
    "df.head()\n",
    "df['go'] = df['单价'] * df['数量']\n",
    "# col.mul()\n",
    "df.head()"
   ],
   "metadata": {
    "collapsed": false,
    "pycharm": {
     "name": "#%%\n"
    }
   }
  },
  {
   "cell_type": "code",
   "execution_count": 6,
   "outputs": [
    {
     "data": {
      "text/plain": "   序号        日期   班组           物资编码       物资名称      规格型号/图号/材质 计量单位      单价  \\\n0   1  2022.8.1  检修组  255100010401   弹簧垫圈（4mm）         4mm 不锈钢   百个    4.00   \n1   2  2022.8.2  综合组  250000011015    六角头螺栓-C级  M10×30mm 4.8 钢   百个   27.35   \n2   3  2022.8.3  检修组   14090000389       螺栓松动剂           250ml    瓶   11.50   \n3   4  2022.8.4  乘务队  955100002732       电茶炉胶垫     190×170 10孔    个   48.39   \n4   5  2022.8.5  检修组  520810100111     硒鼓（88A）          HP 88A    个  110.73   \n\n    数量      金额               科目编号  科目名称      go  \n0  1.0    4.00  6401-1-3421-2-1-1   D1修    4.00  \n1  2.0   54.70  6401-1-3421-2-1-1   D1修   54.70  \n2  2.0   23.00  6401-1-3421-2-1-1   D1修   23.00  \n3  2.0   96.78  6401-1-3421-2-1-1   D1修   96.78  \n4  2.0  221.46  6401-1-3615-1-1-1  微机耗材  221.46  ",
      "text/html": "<div>\n<style scoped>\n    .dataframe tbody tr th:only-of-type {\n        vertical-align: middle;\n    }\n\n    .dataframe tbody tr th {\n        vertical-align: top;\n    }\n\n    .dataframe thead th {\n        text-align: right;\n    }\n</style>\n<table border=\"1\" class=\"dataframe\">\n  <thead>\n    <tr style=\"text-align: right;\">\n      <th></th>\n      <th>序号</th>\n      <th>日期</th>\n      <th>班组</th>\n      <th>物资编码</th>\n      <th>物资名称</th>\n      <th>规格型号/图号/材质</th>\n      <th>计量单位</th>\n      <th>单价</th>\n      <th>数量</th>\n      <th>金额</th>\n      <th>科目编号</th>\n      <th>科目名称</th>\n      <th>go</th>\n    </tr>\n  </thead>\n  <tbody>\n    <tr>\n      <th>0</th>\n      <td>1</td>\n      <td>2022.8.1</td>\n      <td>检修组</td>\n      <td>255100010401</td>\n      <td>弹簧垫圈（4mm）</td>\n      <td>4mm 不锈钢</td>\n      <td>百个</td>\n      <td>4.00</td>\n      <td>1.0</td>\n      <td>4.00</td>\n      <td>6401-1-3421-2-1-1</td>\n      <td>D1修</td>\n      <td>4.00</td>\n    </tr>\n    <tr>\n      <th>1</th>\n      <td>2</td>\n      <td>2022.8.2</td>\n      <td>综合组</td>\n      <td>250000011015</td>\n      <td>六角头螺栓-C级</td>\n      <td>M10×30mm 4.8 钢</td>\n      <td>百个</td>\n      <td>27.35</td>\n      <td>2.0</td>\n      <td>54.70</td>\n      <td>6401-1-3421-2-1-1</td>\n      <td>D1修</td>\n      <td>54.70</td>\n    </tr>\n    <tr>\n      <th>2</th>\n      <td>3</td>\n      <td>2022.8.3</td>\n      <td>检修组</td>\n      <td>14090000389</td>\n      <td>螺栓松动剂</td>\n      <td>250ml</td>\n      <td>瓶</td>\n      <td>11.50</td>\n      <td>2.0</td>\n      <td>23.00</td>\n      <td>6401-1-3421-2-1-1</td>\n      <td>D1修</td>\n      <td>23.00</td>\n    </tr>\n    <tr>\n      <th>3</th>\n      <td>4</td>\n      <td>2022.8.4</td>\n      <td>乘务队</td>\n      <td>955100002732</td>\n      <td>电茶炉胶垫</td>\n      <td>190×170 10孔</td>\n      <td>个</td>\n      <td>48.39</td>\n      <td>2.0</td>\n      <td>96.78</td>\n      <td>6401-1-3421-2-1-1</td>\n      <td>D1修</td>\n      <td>96.78</td>\n    </tr>\n    <tr>\n      <th>4</th>\n      <td>5</td>\n      <td>2022.8.5</td>\n      <td>检修组</td>\n      <td>520810100111</td>\n      <td>硒鼓（88A）</td>\n      <td>HP 88A</td>\n      <td>个</td>\n      <td>110.73</td>\n      <td>2.0</td>\n      <td>221.46</td>\n      <td>6401-1-3615-1-1-1</td>\n      <td>微机耗材</td>\n      <td>221.46</td>\n    </tr>\n  </tbody>\n</table>\n</div>"
     },
     "execution_count": 6,
     "metadata": {},
     "output_type": "execute_result"
    }
   ],
   "source": [
    "df.head()\n"
   ],
   "metadata": {
    "collapsed": false,
    "pycharm": {
     "name": "#%%\n"
    }
   }
  },
  {
   "cell_type": "code",
   "execution_count": 13,
   "outputs": [
    {
     "name": "stdout",
     "output_type": "stream",
     "text": [
      "(14, 13)\n",
      "(15, 13)\n"
     ]
    },
    {
     "data": {
      "text/plain": "    序号         日期   班组           物资编码       物资名称  \\\n0    1   2022.8.1  检修组  255100010401   弹簧垫圈（4mm）   \n1    2   2022.8.2  综合组  250000011015    六角头螺栓-C级   \n2    3   2022.8.3  检修组   14090000389       螺栓松动剂   \n3    4   2022.8.4  乘务队  955100002732       电茶炉胶垫   \n4    5   2022.8.5  检修组  520810100111     硒鼓（88A）   \n5    6   2022.8.6  综合组  520810100334    硒鼓（230A）   \n6    7   2022.8.7  乘务队   17400072020     复印纸(A3)   \n7    8   2022.8.8  综合组   E21004002674        地板刷   \n8    9   2022.8.9  综合组   J03003000515        百洁布   \n9   10  2022.8.10  综合组   18840005400         中性笔   \n10  11  2022.8.11  NaN  255100010401   弹簧垫圈（4mm）   \n12   3   2022.8.3  检修组   14090000389       螺栓松动剂   \n13   3   2022.8.3  检修组   14090000389       螺栓松动剂   \n14   3   2022.8.3  检修组   14090000389       螺栓松动剂   \n15   3   2022.8.3  检修组   14090000389       螺栓松动剂   \n\n                        规格型号/图号/材质 计量单位      单价   数量      金额  \\\n0                          4mm 不锈钢   百个    4.00  1.0    4.00   \n1                   M10×30mm 4.8 钢   百个   27.35  2.0   54.70   \n2                            250ml    瓶   11.50  2.0   23.00   \n3                      190×170 10孔    个   48.39  2.0   96.78   \n4                           HP 88A    个  110.73  2.0  221.46   \n5                        HP CF230A    支   59.86  2.0  119.72   \n6   A3 定量70g/㎡ 宽297×长420mm 2000张/箱    箱  194.25  2.0  388.50   \n7       规格型号:2寸+3.5寸+4寸+5寸实心+5寸空心;    个   50.27  2.0  100.54   \n8                        规格型号:普通款;    个    2.48  2.0    4.96   \n9          晨光GP1008 0.5mm 黑色 12支/盒    盒   16.19  2.0   32.38   \n10                         4mm 不锈钢   百个    4.00  NaN    0.00   \n12                           250ml    瓶   11.50  2.0   23.00   \n13                           250ml    瓶   11.50  2.0   23.00   \n14                           250ml    瓶   11.50  2.0   23.00   \n15                           250ml    瓶   11.50  2.0   23.00   \n\n                 科目编号          科目名称      go  \n0   6401-1-3421-2-1-1           D1修    4.00  \n1   6401-1-3421-2-1-1           D1修   54.70  \n2   6401-1-3421-2-1-1           D1修   23.00  \n3   6401-1-3421-2-1-1           D1修   96.78  \n4   6401-1-3615-1-1-1          微机耗材  221.46  \n5   6401-1-3615-1-1-1          微机耗材  119.72  \n6   6401-1-3615-1-1-1          微机耗材  388.50  \n7   6401-1-3421-2-1-1           D1修  100.54  \n8   6401-1-3421-2-1-1           D1修    4.96  \n9     6401-1-3610-1-2  纸张表格、文具等办公用品   32.38  \n10  6401-1-3421-2-1-1           D1修     NaN  \n12  6401-1-3421-2-1-1           D1修   23.00  \n13  6401-1-3421-2-1-1           D1修   23.00  \n14  6401-1-3421-2-1-1           D1修   23.00  \n15  6401-1-3421-2-1-1           D1修   23.00  ",
      "text/html": "<div>\n<style scoped>\n    .dataframe tbody tr th:only-of-type {\n        vertical-align: middle;\n    }\n\n    .dataframe tbody tr th {\n        vertical-align: top;\n    }\n\n    .dataframe thead th {\n        text-align: right;\n    }\n</style>\n<table border=\"1\" class=\"dataframe\">\n  <thead>\n    <tr style=\"text-align: right;\">\n      <th></th>\n      <th>序号</th>\n      <th>日期</th>\n      <th>班组</th>\n      <th>物资编码</th>\n      <th>物资名称</th>\n      <th>规格型号/图号/材质</th>\n      <th>计量单位</th>\n      <th>单价</th>\n      <th>数量</th>\n      <th>金额</th>\n      <th>科目编号</th>\n      <th>科目名称</th>\n      <th>go</th>\n    </tr>\n  </thead>\n  <tbody>\n    <tr>\n      <th>0</th>\n      <td>1</td>\n      <td>2022.8.1</td>\n      <td>检修组</td>\n      <td>255100010401</td>\n      <td>弹簧垫圈（4mm）</td>\n      <td>4mm 不锈钢</td>\n      <td>百个</td>\n      <td>4.00</td>\n      <td>1.0</td>\n      <td>4.00</td>\n      <td>6401-1-3421-2-1-1</td>\n      <td>D1修</td>\n      <td>4.00</td>\n    </tr>\n    <tr>\n      <th>1</th>\n      <td>2</td>\n      <td>2022.8.2</td>\n      <td>综合组</td>\n      <td>250000011015</td>\n      <td>六角头螺栓-C级</td>\n      <td>M10×30mm 4.8 钢</td>\n      <td>百个</td>\n      <td>27.35</td>\n      <td>2.0</td>\n      <td>54.70</td>\n      <td>6401-1-3421-2-1-1</td>\n      <td>D1修</td>\n      <td>54.70</td>\n    </tr>\n    <tr>\n      <th>2</th>\n      <td>3</td>\n      <td>2022.8.3</td>\n      <td>检修组</td>\n      <td>14090000389</td>\n      <td>螺栓松动剂</td>\n      <td>250ml</td>\n      <td>瓶</td>\n      <td>11.50</td>\n      <td>2.0</td>\n      <td>23.00</td>\n      <td>6401-1-3421-2-1-1</td>\n      <td>D1修</td>\n      <td>23.00</td>\n    </tr>\n    <tr>\n      <th>3</th>\n      <td>4</td>\n      <td>2022.8.4</td>\n      <td>乘务队</td>\n      <td>955100002732</td>\n      <td>电茶炉胶垫</td>\n      <td>190×170 10孔</td>\n      <td>个</td>\n      <td>48.39</td>\n      <td>2.0</td>\n      <td>96.78</td>\n      <td>6401-1-3421-2-1-1</td>\n      <td>D1修</td>\n      <td>96.78</td>\n    </tr>\n    <tr>\n      <th>4</th>\n      <td>5</td>\n      <td>2022.8.5</td>\n      <td>检修组</td>\n      <td>520810100111</td>\n      <td>硒鼓（88A）</td>\n      <td>HP 88A</td>\n      <td>个</td>\n      <td>110.73</td>\n      <td>2.0</td>\n      <td>221.46</td>\n      <td>6401-1-3615-1-1-1</td>\n      <td>微机耗材</td>\n      <td>221.46</td>\n    </tr>\n    <tr>\n      <th>5</th>\n      <td>6</td>\n      <td>2022.8.6</td>\n      <td>综合组</td>\n      <td>520810100334</td>\n      <td>硒鼓（230A）</td>\n      <td>HP CF230A</td>\n      <td>支</td>\n      <td>59.86</td>\n      <td>2.0</td>\n      <td>119.72</td>\n      <td>6401-1-3615-1-1-1</td>\n      <td>微机耗材</td>\n      <td>119.72</td>\n    </tr>\n    <tr>\n      <th>6</th>\n      <td>7</td>\n      <td>2022.8.7</td>\n      <td>乘务队</td>\n      <td>17400072020</td>\n      <td>复印纸(A3)</td>\n      <td>A3 定量70g/㎡ 宽297×长420mm 2000张/箱</td>\n      <td>箱</td>\n      <td>194.25</td>\n      <td>2.0</td>\n      <td>388.50</td>\n      <td>6401-1-3615-1-1-1</td>\n      <td>微机耗材</td>\n      <td>388.50</td>\n    </tr>\n    <tr>\n      <th>7</th>\n      <td>8</td>\n      <td>2022.8.8</td>\n      <td>综合组</td>\n      <td>E21004002674</td>\n      <td>地板刷</td>\n      <td>规格型号:2寸+3.5寸+4寸+5寸实心+5寸空心;</td>\n      <td>个</td>\n      <td>50.27</td>\n      <td>2.0</td>\n      <td>100.54</td>\n      <td>6401-1-3421-2-1-1</td>\n      <td>D1修</td>\n      <td>100.54</td>\n    </tr>\n    <tr>\n      <th>8</th>\n      <td>9</td>\n      <td>2022.8.9</td>\n      <td>综合组</td>\n      <td>J03003000515</td>\n      <td>百洁布</td>\n      <td>规格型号:普通款;</td>\n      <td>个</td>\n      <td>2.48</td>\n      <td>2.0</td>\n      <td>4.96</td>\n      <td>6401-1-3421-2-1-1</td>\n      <td>D1修</td>\n      <td>4.96</td>\n    </tr>\n    <tr>\n      <th>9</th>\n      <td>10</td>\n      <td>2022.8.10</td>\n      <td>综合组</td>\n      <td>18840005400</td>\n      <td>中性笔</td>\n      <td>晨光GP1008 0.5mm 黑色 12支/盒</td>\n      <td>盒</td>\n      <td>16.19</td>\n      <td>2.0</td>\n      <td>32.38</td>\n      <td>6401-1-3610-1-2</td>\n      <td>纸张表格、文具等办公用品</td>\n      <td>32.38</td>\n    </tr>\n    <tr>\n      <th>10</th>\n      <td>11</td>\n      <td>2022.8.11</td>\n      <td>NaN</td>\n      <td>255100010401</td>\n      <td>弹簧垫圈（4mm）</td>\n      <td>4mm 不锈钢</td>\n      <td>百个</td>\n      <td>4.00</td>\n      <td>NaN</td>\n      <td>0.00</td>\n      <td>6401-1-3421-2-1-1</td>\n      <td>D1修</td>\n      <td>NaN</td>\n    </tr>\n    <tr>\n      <th>12</th>\n      <td>3</td>\n      <td>2022.8.3</td>\n      <td>检修组</td>\n      <td>14090000389</td>\n      <td>螺栓松动剂</td>\n      <td>250ml</td>\n      <td>瓶</td>\n      <td>11.50</td>\n      <td>2.0</td>\n      <td>23.00</td>\n      <td>6401-1-3421-2-1-1</td>\n      <td>D1修</td>\n      <td>23.00</td>\n    </tr>\n    <tr>\n      <th>13</th>\n      <td>3</td>\n      <td>2022.8.3</td>\n      <td>检修组</td>\n      <td>14090000389</td>\n      <td>螺栓松动剂</td>\n      <td>250ml</td>\n      <td>瓶</td>\n      <td>11.50</td>\n      <td>2.0</td>\n      <td>23.00</td>\n      <td>6401-1-3421-2-1-1</td>\n      <td>D1修</td>\n      <td>23.00</td>\n    </tr>\n    <tr>\n      <th>14</th>\n      <td>3</td>\n      <td>2022.8.3</td>\n      <td>检修组</td>\n      <td>14090000389</td>\n      <td>螺栓松动剂</td>\n      <td>250ml</td>\n      <td>瓶</td>\n      <td>11.50</td>\n      <td>2.0</td>\n      <td>23.00</td>\n      <td>6401-1-3421-2-1-1</td>\n      <td>D1修</td>\n      <td>23.00</td>\n    </tr>\n    <tr>\n      <th>15</th>\n      <td>3</td>\n      <td>2022.8.3</td>\n      <td>检修组</td>\n      <td>14090000389</td>\n      <td>螺栓松动剂</td>\n      <td>250ml</td>\n      <td>瓶</td>\n      <td>11.50</td>\n      <td>2.0</td>\n      <td>23.00</td>\n      <td>6401-1-3421-2-1-1</td>\n      <td>D1修</td>\n      <td>23.00</td>\n    </tr>\n  </tbody>\n</table>\n</div>"
     },
     "execution_count": 13,
     "metadata": {},
     "output_type": "execute_result"
    }
   ],
   "source": [
    "## 添加行\n",
    "\n",
    "print(df.shape)\n",
    "df.loc[len(df)+1] = df.iloc[2]\n",
    "print(df.shape)\n",
    "df"
   ],
   "metadata": {
    "collapsed": false,
    "pycharm": {
     "name": "#%%\n"
    }
   }
  },
  {
   "cell_type": "code",
   "execution_count": 17,
   "outputs": [
    {
     "data": {
      "text/plain": "(301, 18)"
     },
     "execution_count": 17,
     "metadata": {},
     "output_type": "execute_result"
    }
   ],
   "source": [
    "df1 = pd.read_csv('./resource.csv', encoding='gbk')\n",
    "df2 = pd.read_csv('./add.csv', encoding='utf8')\n",
    "df_list = [df1, df2]\n",
    "df = pd.concat(df_list)\n",
    "df.shape\n"
   ],
   "metadata": {
    "collapsed": false,
    "pycharm": {
     "name": "#%%\n"
    }
   }
  }
 ],
 "metadata": {
  "kernelspec": {
   "display_name": "Python 3",
   "language": "python",
   "name": "python3"
  },
  "language_info": {
   "codemirror_mode": {
    "name": "ipython",
    "version": 2
   },
   "file_extension": ".py",
   "mimetype": "text/x-python",
   "name": "python",
   "nbconvert_exporter": "python",
   "pygments_lexer": "ipython2",
   "version": "2.7.6"
  }
 },
 "nbformat": 4,
 "nbformat_minor": 0
}