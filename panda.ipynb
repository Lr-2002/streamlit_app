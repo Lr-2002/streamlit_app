{
 "cells": [
  {
   "cell_type": "code",
   "execution_count": 1,
   "outputs": [
    {
     "name": "stderr",
     "output_type": "stream",
     "text": [
      "C:\\Users\\ASUS\\anaconda3\\lib\\site-packages\\numpy\\_distributor_init.py:30: UserWarning: loaded more than 1 DLL from .libs:\n",
      "C:\\Users\\ASUS\\anaconda3\\lib\\site-packages\\numpy\\.libs\\libopenblas.EL2C6PLE4ZYW3ECEVIV3OXXGRN2NRFM2.gfortran-win_amd64.dll\n",
      "C:\\Users\\ASUS\\anaconda3\\lib\\site-packages\\numpy\\.libs\\libopenblas.QVLO2T66WEPI7JZ63PS3HMOHFEY472BC.gfortran-win_amd64.dll\n",
      "C:\\Users\\ASUS\\anaconda3\\lib\\site-packages\\numpy\\.libs\\libopenblas.WCDJNK7YVMPZQ2ME2ZZHJJRJ3JIKNDB7.gfortran-win_amd64.dll\n",
      "  warnings.warn(\"loaded more than 1 DLL from .libs:\"\n"
     ]
    }
   ],
   "source": [
    "import pandas as pd"
   ],
   "metadata": {
    "collapsed": false,
    "pycharm": {
     "name": "#%%\n"
    }
   }
  },
  {
   "cell_type": "code",
   "execution_count": 2,
   "outputs": [
    {
     "ename": "FileNotFoundError",
     "evalue": "[Errno 2] No such file or directory: './full.csv'",
     "output_type": "error",
     "traceback": [
      "\u001B[1;31m---------------------------------------------------------------------------\u001B[0m",
      "\u001B[1;31mFileNotFoundError\u001B[0m                         Traceback (most recent call last)",
      "\u001B[1;32m<ipython-input-2-a138648e9b98>\u001B[0m in \u001B[0;36m<module>\u001B[1;34m\u001B[0m\n\u001B[1;32m----> 1\u001B[1;33m \u001B[0mdf\u001B[0m \u001B[1;33m=\u001B[0m \u001B[0mpd\u001B[0m\u001B[1;33m.\u001B[0m\u001B[0mread_csv\u001B[0m\u001B[1;33m(\u001B[0m\u001B[1;34m'./full.csv'\u001B[0m\u001B[1;33m,\u001B[0m\u001B[0mencoding\u001B[0m\u001B[1;33m=\u001B[0m\u001B[1;34m'gbk'\u001B[0m\u001B[1;33m)\u001B[0m\u001B[1;33m\u001B[0m\u001B[1;33m\u001B[0m\u001B[0m\n\u001B[0m\u001B[0;32m      2\u001B[0m \u001B[0mdf\u001B[0m\u001B[1;33m.\u001B[0m\u001B[0mhead\u001B[0m\u001B[1;33m(\u001B[0m\u001B[1;33m)\u001B[0m\u001B[1;33m\u001B[0m\u001B[1;33m\u001B[0m\u001B[0m\n",
      "\u001B[1;32m~\\anaconda3\\lib\\site-packages\\pandas\\util\\_decorators.py\u001B[0m in \u001B[0;36mwrapper\u001B[1;34m(*args, **kwargs)\u001B[0m\n\u001B[0;32m    309\u001B[0m                     \u001B[0mstacklevel\u001B[0m\u001B[1;33m=\u001B[0m\u001B[0mstacklevel\u001B[0m\u001B[1;33m,\u001B[0m\u001B[1;33m\u001B[0m\u001B[1;33m\u001B[0m\u001B[0m\n\u001B[0;32m    310\u001B[0m                 )\n\u001B[1;32m--> 311\u001B[1;33m             \u001B[1;32mreturn\u001B[0m \u001B[0mfunc\u001B[0m\u001B[1;33m(\u001B[0m\u001B[1;33m*\u001B[0m\u001B[0margs\u001B[0m\u001B[1;33m,\u001B[0m \u001B[1;33m**\u001B[0m\u001B[0mkwargs\u001B[0m\u001B[1;33m)\u001B[0m\u001B[1;33m\u001B[0m\u001B[1;33m\u001B[0m\u001B[0m\n\u001B[0m\u001B[0;32m    312\u001B[0m \u001B[1;33m\u001B[0m\u001B[0m\n\u001B[0;32m    313\u001B[0m         \u001B[1;32mreturn\u001B[0m \u001B[0mwrapper\u001B[0m\u001B[1;33m\u001B[0m\u001B[1;33m\u001B[0m\u001B[0m\n",
      "\u001B[1;32m~\\anaconda3\\lib\\site-packages\\pandas\\io\\parsers\\readers.py\u001B[0m in \u001B[0;36mread_csv\u001B[1;34m(filepath_or_buffer, sep, delimiter, header, names, index_col, usecols, squeeze, prefix, mangle_dupe_cols, dtype, engine, converters, true_values, false_values, skipinitialspace, skiprows, skipfooter, nrows, na_values, keep_default_na, na_filter, verbose, skip_blank_lines, parse_dates, infer_datetime_format, keep_date_col, date_parser, dayfirst, cache_dates, iterator, chunksize, compression, thousands, decimal, lineterminator, quotechar, quoting, doublequote, escapechar, comment, encoding, encoding_errors, dialect, error_bad_lines, warn_bad_lines, on_bad_lines, delim_whitespace, low_memory, memory_map, float_precision, storage_options)\u001B[0m\n\u001B[0;32m    584\u001B[0m     \u001B[0mkwds\u001B[0m\u001B[1;33m.\u001B[0m\u001B[0mupdate\u001B[0m\u001B[1;33m(\u001B[0m\u001B[0mkwds_defaults\u001B[0m\u001B[1;33m)\u001B[0m\u001B[1;33m\u001B[0m\u001B[1;33m\u001B[0m\u001B[0m\n\u001B[0;32m    585\u001B[0m \u001B[1;33m\u001B[0m\u001B[0m\n\u001B[1;32m--> 586\u001B[1;33m     \u001B[1;32mreturn\u001B[0m \u001B[0m_read\u001B[0m\u001B[1;33m(\u001B[0m\u001B[0mfilepath_or_buffer\u001B[0m\u001B[1;33m,\u001B[0m \u001B[0mkwds\u001B[0m\u001B[1;33m)\u001B[0m\u001B[1;33m\u001B[0m\u001B[1;33m\u001B[0m\u001B[0m\n\u001B[0m\u001B[0;32m    587\u001B[0m \u001B[1;33m\u001B[0m\u001B[0m\n\u001B[0;32m    588\u001B[0m \u001B[1;33m\u001B[0m\u001B[0m\n",
      "\u001B[1;32m~\\anaconda3\\lib\\site-packages\\pandas\\io\\parsers\\readers.py\u001B[0m in \u001B[0;36m_read\u001B[1;34m(filepath_or_buffer, kwds)\u001B[0m\n\u001B[0;32m    480\u001B[0m \u001B[1;33m\u001B[0m\u001B[0m\n\u001B[0;32m    481\u001B[0m     \u001B[1;31m# Create the parser.\u001B[0m\u001B[1;33m\u001B[0m\u001B[1;33m\u001B[0m\u001B[1;33m\u001B[0m\u001B[0m\n\u001B[1;32m--> 482\u001B[1;33m     \u001B[0mparser\u001B[0m \u001B[1;33m=\u001B[0m \u001B[0mTextFileReader\u001B[0m\u001B[1;33m(\u001B[0m\u001B[0mfilepath_or_buffer\u001B[0m\u001B[1;33m,\u001B[0m \u001B[1;33m**\u001B[0m\u001B[0mkwds\u001B[0m\u001B[1;33m)\u001B[0m\u001B[1;33m\u001B[0m\u001B[1;33m\u001B[0m\u001B[0m\n\u001B[0m\u001B[0;32m    483\u001B[0m \u001B[1;33m\u001B[0m\u001B[0m\n\u001B[0;32m    484\u001B[0m     \u001B[1;32mif\u001B[0m \u001B[0mchunksize\u001B[0m \u001B[1;32mor\u001B[0m \u001B[0miterator\u001B[0m\u001B[1;33m:\u001B[0m\u001B[1;33m\u001B[0m\u001B[1;33m\u001B[0m\u001B[0m\n",
      "\u001B[1;32m~\\anaconda3\\lib\\site-packages\\pandas\\io\\parsers\\readers.py\u001B[0m in \u001B[0;36m__init__\u001B[1;34m(self, f, engine, **kwds)\u001B[0m\n\u001B[0;32m    809\u001B[0m             \u001B[0mself\u001B[0m\u001B[1;33m.\u001B[0m\u001B[0moptions\u001B[0m\u001B[1;33m[\u001B[0m\u001B[1;34m\"has_index_names\"\u001B[0m\u001B[1;33m]\u001B[0m \u001B[1;33m=\u001B[0m \u001B[0mkwds\u001B[0m\u001B[1;33m[\u001B[0m\u001B[1;34m\"has_index_names\"\u001B[0m\u001B[1;33m]\u001B[0m\u001B[1;33m\u001B[0m\u001B[1;33m\u001B[0m\u001B[0m\n\u001B[0;32m    810\u001B[0m \u001B[1;33m\u001B[0m\u001B[0m\n\u001B[1;32m--> 811\u001B[1;33m         \u001B[0mself\u001B[0m\u001B[1;33m.\u001B[0m\u001B[0m_engine\u001B[0m \u001B[1;33m=\u001B[0m \u001B[0mself\u001B[0m\u001B[1;33m.\u001B[0m\u001B[0m_make_engine\u001B[0m\u001B[1;33m(\u001B[0m\u001B[0mself\u001B[0m\u001B[1;33m.\u001B[0m\u001B[0mengine\u001B[0m\u001B[1;33m)\u001B[0m\u001B[1;33m\u001B[0m\u001B[1;33m\u001B[0m\u001B[0m\n\u001B[0m\u001B[0;32m    812\u001B[0m \u001B[1;33m\u001B[0m\u001B[0m\n\u001B[0;32m    813\u001B[0m     \u001B[1;32mdef\u001B[0m \u001B[0mclose\u001B[0m\u001B[1;33m(\u001B[0m\u001B[0mself\u001B[0m\u001B[1;33m)\u001B[0m\u001B[1;33m:\u001B[0m\u001B[1;33m\u001B[0m\u001B[1;33m\u001B[0m\u001B[0m\n",
      "\u001B[1;32m~\\anaconda3\\lib\\site-packages\\pandas\\io\\parsers\\readers.py\u001B[0m in \u001B[0;36m_make_engine\u001B[1;34m(self, engine)\u001B[0m\n\u001B[0;32m   1038\u001B[0m             )\n\u001B[0;32m   1039\u001B[0m         \u001B[1;31m# error: Too many arguments for \"ParserBase\"\u001B[0m\u001B[1;33m\u001B[0m\u001B[1;33m\u001B[0m\u001B[1;33m\u001B[0m\u001B[0m\n\u001B[1;32m-> 1040\u001B[1;33m         \u001B[1;32mreturn\u001B[0m \u001B[0mmapping\u001B[0m\u001B[1;33m[\u001B[0m\u001B[0mengine\u001B[0m\u001B[1;33m]\u001B[0m\u001B[1;33m(\u001B[0m\u001B[0mself\u001B[0m\u001B[1;33m.\u001B[0m\u001B[0mf\u001B[0m\u001B[1;33m,\u001B[0m \u001B[1;33m**\u001B[0m\u001B[0mself\u001B[0m\u001B[1;33m.\u001B[0m\u001B[0moptions\u001B[0m\u001B[1;33m)\u001B[0m  \u001B[1;31m# type: ignore[call-arg]\u001B[0m\u001B[1;33m\u001B[0m\u001B[1;33m\u001B[0m\u001B[0m\n\u001B[0m\u001B[0;32m   1041\u001B[0m \u001B[1;33m\u001B[0m\u001B[0m\n\u001B[0;32m   1042\u001B[0m     \u001B[1;32mdef\u001B[0m \u001B[0m_failover_to_python\u001B[0m\u001B[1;33m(\u001B[0m\u001B[0mself\u001B[0m\u001B[1;33m)\u001B[0m\u001B[1;33m:\u001B[0m\u001B[1;33m\u001B[0m\u001B[1;33m\u001B[0m\u001B[0m\n",
      "\u001B[1;32m~\\anaconda3\\lib\\site-packages\\pandas\\io\\parsers\\c_parser_wrapper.py\u001B[0m in \u001B[0;36m__init__\u001B[1;34m(self, src, **kwds)\u001B[0m\n\u001B[0;32m     49\u001B[0m \u001B[1;33m\u001B[0m\u001B[0m\n\u001B[0;32m     50\u001B[0m         \u001B[1;31m# open handles\u001B[0m\u001B[1;33m\u001B[0m\u001B[1;33m\u001B[0m\u001B[1;33m\u001B[0m\u001B[0m\n\u001B[1;32m---> 51\u001B[1;33m         \u001B[0mself\u001B[0m\u001B[1;33m.\u001B[0m\u001B[0m_open_handles\u001B[0m\u001B[1;33m(\u001B[0m\u001B[0msrc\u001B[0m\u001B[1;33m,\u001B[0m \u001B[0mkwds\u001B[0m\u001B[1;33m)\u001B[0m\u001B[1;33m\u001B[0m\u001B[1;33m\u001B[0m\u001B[0m\n\u001B[0m\u001B[0;32m     52\u001B[0m         \u001B[1;32massert\u001B[0m \u001B[0mself\u001B[0m\u001B[1;33m.\u001B[0m\u001B[0mhandles\u001B[0m \u001B[1;32mis\u001B[0m \u001B[1;32mnot\u001B[0m \u001B[1;32mNone\u001B[0m\u001B[1;33m\u001B[0m\u001B[1;33m\u001B[0m\u001B[0m\n\u001B[0;32m     53\u001B[0m \u001B[1;33m\u001B[0m\u001B[0m\n",
      "\u001B[1;32m~\\anaconda3\\lib\\site-packages\\pandas\\io\\parsers\\base_parser.py\u001B[0m in \u001B[0;36m_open_handles\u001B[1;34m(self, src, kwds)\u001B[0m\n\u001B[0;32m    220\u001B[0m         \u001B[0mLet\u001B[0m \u001B[0mthe\u001B[0m \u001B[0mreaders\u001B[0m \u001B[0mopen\u001B[0m \u001B[0mIOHandles\u001B[0m \u001B[0mafter\u001B[0m \u001B[0mthey\u001B[0m \u001B[0mare\u001B[0m \u001B[0mdone\u001B[0m \u001B[1;32mwith\u001B[0m \u001B[0mtheir\u001B[0m \u001B[0mpotential\u001B[0m \u001B[0mraises\u001B[0m\u001B[1;33m.\u001B[0m\u001B[1;33m\u001B[0m\u001B[1;33m\u001B[0m\u001B[0m\n\u001B[0;32m    221\u001B[0m         \"\"\"\n\u001B[1;32m--> 222\u001B[1;33m         self.handles = get_handle(\n\u001B[0m\u001B[0;32m    223\u001B[0m             \u001B[0msrc\u001B[0m\u001B[1;33m,\u001B[0m\u001B[1;33m\u001B[0m\u001B[1;33m\u001B[0m\u001B[0m\n\u001B[0;32m    224\u001B[0m             \u001B[1;34m\"r\"\u001B[0m\u001B[1;33m,\u001B[0m\u001B[1;33m\u001B[0m\u001B[1;33m\u001B[0m\u001B[0m\n",
      "\u001B[1;32m~\\anaconda3\\lib\\site-packages\\pandas\\io\\common.py\u001B[0m in \u001B[0;36mget_handle\u001B[1;34m(path_or_buf, mode, encoding, compression, memory_map, is_text, errors, storage_options)\u001B[0m\n\u001B[0;32m    700\u001B[0m         \u001B[1;32mif\u001B[0m \u001B[0mioargs\u001B[0m\u001B[1;33m.\u001B[0m\u001B[0mencoding\u001B[0m \u001B[1;32mand\u001B[0m \u001B[1;34m\"b\"\u001B[0m \u001B[1;32mnot\u001B[0m \u001B[1;32min\u001B[0m \u001B[0mioargs\u001B[0m\u001B[1;33m.\u001B[0m\u001B[0mmode\u001B[0m\u001B[1;33m:\u001B[0m\u001B[1;33m\u001B[0m\u001B[1;33m\u001B[0m\u001B[0m\n\u001B[0;32m    701\u001B[0m             \u001B[1;31m# Encoding\u001B[0m\u001B[1;33m\u001B[0m\u001B[1;33m\u001B[0m\u001B[1;33m\u001B[0m\u001B[0m\n\u001B[1;32m--> 702\u001B[1;33m             handle = open(\n\u001B[0m\u001B[0;32m    703\u001B[0m                 \u001B[0mhandle\u001B[0m\u001B[1;33m,\u001B[0m\u001B[1;33m\u001B[0m\u001B[1;33m\u001B[0m\u001B[0m\n\u001B[0;32m    704\u001B[0m                 \u001B[0mioargs\u001B[0m\u001B[1;33m.\u001B[0m\u001B[0mmode\u001B[0m\u001B[1;33m,\u001B[0m\u001B[1;33m\u001B[0m\u001B[1;33m\u001B[0m\u001B[0m\n",
      "\u001B[1;31mFileNotFoundError\u001B[0m: [Errno 2] No such file or directory: './full.csv'"
     ]
    }
   ],
   "source": [
    "df = pd.read_csv('./full.csv',encoding='gbk')\n",
    "df.head()"
   ],
   "metadata": {
    "collapsed": false,
    "pycharm": {
     "name": "#%%\n"
    }
   }
  },
  {
   "cell_type": "code",
   "execution_count": null,
   "outputs": [],
   "source": [
    "df.to_dict()"
   ],
   "metadata": {
    "collapsed": false,
    "pycharm": {
     "name": "#%%\n"
    }
   }
  },
  {
   "cell_type": "markdown",
   "source": [],
   "metadata": {
    "collapsed": false,
    "pycharm": {
     "name": "#%% md\n"
    }
   }
  },
  {
   "cell_type": "code",
   "execution_count": null,
   "outputs": [],
   "source": [
    "df= pd.read_csv('./full.csv', encoding='gbk')\n",
    "# df.info()\n",
    "# df.index\n",
    "df.head()\n",
    "df['go'] = df['单价（元）'] * df['数量']\n",
    "# col.mul()\n",
    "df.head()"
   ],
   "metadata": {
    "collapsed": false,
    "pycharm": {
     "name": "#%%\n"
    }
   }
  },
  {
   "cell_type": "code",
   "execution_count": null,
   "outputs": [],
   "source": [
    "df.head()\n"
   ],
   "metadata": {
    "collapsed": false,
    "pycharm": {
     "name": "#%%\n"
    }
   }
  },
  {
   "cell_type": "code",
   "execution_count": null,
   "outputs": [],
   "source": [
    "## 添加行\n",
    "\n",
    "print(df.shape)\n",
    "df.loc[len(df)+1] = df.iloc[2]\n",
    "print(df.shape)\n",
    "df"
   ],
   "metadata": {
    "collapsed": false,
    "pycharm": {
     "name": "#%%\n"
    }
   }
  },
  {
   "cell_type": "code",
   "execution_count": null,
   "outputs": [],
   "source": [
    "df1 = pd.read_csv('./resource.csv', encoding='gbk')\n",
    "df2 = pd.read_csv('./add.csv', encoding='utf8')\n",
    "df_list = [df1, df2]\n",
    "df = pd.concat(df_list)\n",
    "\n",
    "\n",
    "\n",
    "dic = {'序号': ['1'], '辅助列': ['2'], '物资编码': ['3'], '物资名称': ['3'], '规格型号/图号/材质': ['1'], '计量单位': ['11'], '单价（元）': ['12'], '科目编号': ['3'], '科目名称': ['12']}\n",
    "\n",
    "dic = pd.DataFrame.from_dict(dic)\n",
    "dic"
   ],
   "metadata": {
    "collapsed": false,
    "pycharm": {
     "name": "#%%\n"
    }
   }
  },
  {
   "cell_type": "code",
   "execution_count": null,
   "outputs": [],
   "source": [
    "df = df.head()\n",
    "rows = df.shape[0]\n",
    "df.dtypes\n",
    "# [df[x].dtypes(0)  for x in df.keys()]\n",
    "# df.loc[len(df.index) ] = [0 for x in df.keys()]\n",
    "# for i in df.keys():\n",
    "    # print(df.iloc[rows-1])\n",
    "    # print(df[i])"
   ],
   "metadata": {
    "collapsed": false,
    "pycharm": {
     "name": "#%%\n"
    }
   }
  },
  {
   "cell_type": "code",
   "execution_count": null,
   "outputs": [],
   "source": [],
   "metadata": {
    "collapsed": false,
    "pycharm": {
     "name": "#%%\n"
    }
   }
  },
  {
   "cell_type": "code",
   "execution_count": null,
   "outputs": [],
   "source": [
    "full = pd.read_csv('./full.csv', encoding='gbk')\n",
    "full.tail()"
   ],
   "metadata": {
    "collapsed": false,
    "pycharm": {
     "name": "#%%\n"
    }
   }
  },
  {
   "cell_type": "code",
   "execution_count": null,
   "outputs": [],
   "source": [
    "total = pd.read_csv('./total.csv', encoding='gbk')\n",
    "total"
   ],
   "metadata": {
    "collapsed": false,
    "pycharm": {
     "name": "#%%\n"
    }
   }
  },
  {
   "cell_type": "code",
   "execution_count": null,
   "outputs": [],
   "source": [
    "\n",
    "cate = full['科目名称'].unique()\n",
    "\n",
    "for i in range(total.shape[0]):\n",
    "    # print(i)\n",
    "    for j in cate:\n",
    "        name = total.at[i, '班组']\n",
    "        # print(j)\n",
    "        # print(full['班组'] == name )\n",
    "        # print(full['科目名称'] == j)\n",
    "        money =  full[(full['班组'] == name) & (full['科目名称'] == j)]['金额'].sum()\n",
    "        print(i, j ,money)\n",
    "        # total[(total['班组'] == name) ][j+'成本消耗'] = money\n",
    "\n",
    "        total.at[i, j+'成本消耗'] = money\n",
    "for i in total.keys():\n",
    "    if '成本' in i :\n",
    "        total.at[total.shape[0]-1, i] = total[i].sum()\n"
   ],
   "metadata": {
    "collapsed": false,
    "pycharm": {
     "name": "#%%\n"
    }
   }
  },
  {
   "cell_type": "code",
   "execution_count": null,
   "outputs": [],
   "source": [
    "for i in cate:\n",
    "    source = i +'总成本'\n",
    "    cost = i +'成本消耗'\n",
    "    rate = i+'成本消耗比例'\n",
    "    total[rate ]= total[cost] / total[source]\n",
    "total"
   ],
   "metadata": {
    "collapsed": false,
    "pycharm": {
     "name": "#%%\n"
    }
   }
  },
  {
   "cell_type": "code",
   "execution_count": null,
   "outputs": [],
   "source": [
    "\n",
    "total"
   ],
   "metadata": {
    "collapsed": false,
    "pycharm": {
     "name": "#%%\n"
    }
   }
  },
  {
   "cell_type": "code",
   "execution_count": null,
   "outputs": [],
   "source": [
    "resource = pd.read_csv('./resource.csv', encoding='gbk')\n",
    "resource\n",
    "key = '电茶炉胶垫'\n",
    "x = resource[resource['物资名称'] == key]\n",
    "z = x.set_index('物资名称').to_dict()\n",
    "ans = {}\n",
    "\n",
    "for i in z.keys():\n",
    "    # print(z[i])\n",
    "    if z[i] != {}:\n",
    "        ans[i ]= z[i][key]\n",
    "    else:\n",
    "        continue\n",
    "ans\n",
    "full"
   ],
   "metadata": {
    "collapsed": false,
    "pycharm": {
     "name": "#%%\n"
    }
   }
  },
  {
   "cell_type": "code",
   "execution_count": null,
   "outputs": [],
   "source": [
    "def change_type(df1:pd.DataFrame, df2 :dict):\n",
    "    # todo 为什么会增加unamed？\n",
    "    df2 = pd.DataFrame.from_dict(df2)\n",
    "    for i in df2.keys():\n",
    "        df2[i] =df2[i].astype(df1[i].dtypes)\n",
    "\n",
    "    add_list = [df1, df2]\n",
    "    df = pd.concat(add_list)\n",
    "    return df\n",
    "full"
   ],
   "metadata": {
    "collapsed": false,
    "pycharm": {
     "name": "#%%\n"
    }
   }
  },
  {
   "cell_type": "code",
   "execution_count": null,
   "outputs": [],
   "source": [
    "def search_name_in_resource(key, resource):\n",
    "        # key = '电动三轮车'\n",
    "        # st.title(key)\n",
    "        # key = '不锈钢'\n",
    "        # key = [key]\n",
    "        print(resource['物资名称'].str.contains(key))\n",
    "        x = resource.loc[ resource['物资名称'].str.contains(key)]\n",
    "        # print(x)\n",
    "        return x\n",
    "\n",
    "\n",
    "search_name_in_resource('弹簧', resource)\n"
   ],
   "metadata": {
    "collapsed": false,
    "pycharm": {
     "name": "#%%\n"
    }
   }
  },
  {
   "cell_type": "code",
   "execution_count": null,
   "outputs": [],
   "source": [
    "temp  ={}\n",
    "for i in full.keys():\n",
    "    temp[i] = ['0']\n",
    "full"
   ],
   "metadata": {
    "collapsed": false,
    "pycharm": {
     "name": "#%%\n"
    }
   }
  },
  {
   "cell_type": "code",
   "execution_count": null,
   "outputs": [],
   "source": [
    "import streamlit.cli"
   ],
   "metadata": {
    "collapsed": false,
    "pycharm": {
     "name": "#%%\n"
    }
   }
  },
  {
   "cell_type": "code",
   "execution_count": null,
   "outputs": [],
   "source": [
    "df = pd.read_csv('./admin.csv')\n",
    "name = df.at[0, 'name']\n",
    "\n",
    "sn = df.at[0, ' sn']"
   ],
   "metadata": {
    "collapsed": false,
    "pycharm": {
     "name": "#%%\n"
    }
   }
  },
  {
   "cell_type": "code",
   "execution_count": null,
   "outputs": [],
   "source": [
    "df"
   ],
   "metadata": {
    "collapsed": false,
    "pycharm": {
     "name": "#%%\n"
    }
   }
  },
  {
   "cell_type": "code",
   "execution_count": null,
   "outputs": [],
   "source": [
    "df.at[0,'name'] = 'add'\n",
    "df.to_csv('./test_df.csv',index =False)\n",
    "dd = pd.read_csv('./test_df.csv')\n",
    "dd"
   ],
   "metadata": {
    "collapsed": false,
    "pycharm": {
     "name": "#%%\n"
    }
   }
  },
  {
   "cell_type": "code",
   "execution_count": 14,
   "outputs": [],
   "source": [
    "df = pd.read_csv('./add_on/full.csv', encoding='gbk')\n"
   ],
   "metadata": {
    "collapsed": false,
    "pycharm": {
     "name": "#%%\n"
    }
   }
  },
  {
   "cell_type": "code",
   "execution_count": 3,
   "outputs": [],
   "source": [],
   "metadata": {
    "collapsed": false,
    "pycharm": {
     "name": "#%%\n"
    }
   }
  },
  {
   "cell_type": "code",
   "execution_count": 15,
   "outputs": [
    {
     "data": {
      "text/plain": "           日期   班组       物资名称                      规格型号/图号/材质 计量单位    单价（元）  \\\n0    2022.8.1  检修组  弹簧垫圈（4mm）                         4mm 不锈钢   百个     4.00   \n1    2022.8.2  综合组   六角头螺栓-C级                  M10×30mm 4.8 钢   百个    27.35   \n2    2022.8.3  检修组      螺栓松动剂                           250ml    瓶    11.50   \n3    2022.8.4  乘务队      电茶炉胶垫                     190×170 10孔    个    48.39   \n4    2022.8.5  检修组    硒鼓（88A）                          HP 88A    个   110.73   \n5    2022.8.6  综合组   硒鼓（230A）                       HP CF230A    支    59.86   \n6    2022.8.7  乘务队    复印纸(A3)  A3 定量70g/㎡ 宽297×长420mm 2000张/箱    箱   194.25   \n7    2022.8.8  综合组        地板刷      规格型号:2寸+3.5寸+4寸+5寸实心+5寸空心;    个    50.27   \n8    2022.8.9  综合组        百洁布                       规格型号:普通款;    个     2.48   \n9   2022.8.10  综合组        中性笔         晨光GP1008 0.5mm 黑色 12支/盒    盒    16.19   \n10  2022.8.11  检修组  弹簧垫圈（4mm）                         4mm 不锈钢   百个     4.00   \n11   2022.9.1  乘务队      电动三轮车                 1.2m×0.9m 电机48V    辆  4417.70   \n12   2022.9.2  检修组      电茶炉胶垫                     190×170 10孔    个    48.39   \n13   2022.9.9  检修队      电动三轮车                 1.2m×0.9m 电机48V    辆  4417.70   \n0    2022.8.1  检修组  弹簧垫圈（4mm）                         4mm 不锈钢   百个     4.00   \n1    2022.8.2  综合组   六角头螺栓-C级                  M10×30mm 4.8 钢   百个    27.35   \n2    2022.8.3  检修组      螺栓松动剂                           250ml    瓶    11.50   \n3    2022.8.4  乘务队      电茶炉胶垫                     190×170 10孔    个    48.39   \n4    2022.8.5  检修组    硒鼓（88A）                          HP 88A    个   110.73   \n5    2022.8.6  综合组   硒鼓（230A）                       HP CF230A    支    59.86   \n6    2022.8.7  乘务队    复印纸(A3)  A3 定量70g/㎡ 宽297×长420mm 2000张/箱    箱   194.25   \n7    2022.8.8  综合组        地板刷      规格型号:2寸+3.5寸+4寸+5寸实心+5寸空心;    个    50.27   \n8    2022.8.9  综合组        百洁布                       规格型号:普通款;    个     2.48   \n9   2022.8.10  综合组        中性笔         晨光GP1008 0.5mm 黑色 12支/盒    盒    16.19   \n10  2022.8.11  检修组  弹簧垫圈（4mm）                         4mm 不锈钢   百个     4.00   \n11   2022.9.1  乘务队      电动三轮车                 1.2m×0.9m 电机48V    辆  4417.70   \n12   2022.9.2  检修组      电茶炉胶垫                     190×170 10孔    个    48.39   \n13   2022.9.9  检修队      电动三轮车                 1.2m×0.9m 电机48V    辆  4417.70   \n\n    数量       金额               科目编号          科目名称  \n0    1     4.00  6401-1-3421-2-1-1           D1修  \n1    2    54.70  6401-1-3421-2-1-1           D1修  \n2    2    23.00  6401-1-3421-2-1-1           D1修  \n3    2    96.78  6401-1-3421-2-1-1           D1修  \n4    2   221.46  6401-1-3615-1-1-1          微机耗材  \n5    2   119.72  6401-1-3615-1-1-1          微机耗材  \n6    2   388.50  6401-1-3615-1-1-1          微机耗材  \n7    2   100.54  6401-1-3421-2-1-1           D1修  \n8    2     4.96  6401-1-3421-2-1-1           D1修  \n9    2    32.38    6401-1-3610-1-2  纸张表格、文具等办公用品  \n10  15    60.00  6401-1-3421-2-1-1           D1修  \n11   1  4417.70  6401-1-3421-2-1-1           D1修  \n12   1    48.39  6401-1-3421-2-1-1           D1修  \n13   1  4417.70  6401-1-3421-2-1-1           D1修  \n0    1     4.00  6401-1-3421-2-1-1           D1修  \n1    2    54.70  6401-1-3421-2-1-1           D1修  \n2    2    23.00  6401-1-3421-2-1-1           D1修  \n3    2    96.78  6401-1-3421-2-1-1           D1修  \n4    2   221.46  6401-1-3615-1-1-1          微机耗材  \n5    2   119.72  6401-1-3615-1-1-1          微机耗材  \n6    2   388.50  6401-1-3615-1-1-1          微机耗材  \n7    2   100.54  6401-1-3421-2-1-1           D1修  \n8    2     4.96  6401-1-3421-2-1-1           D1修  \n9    2    32.38    6401-1-3610-1-2  纸张表格、文具等办公用品  \n10  15    60.00  6401-1-3421-2-1-1           D1修  \n11   1  4417.70  6401-1-3421-2-1-1           D1修  \n12   1    48.39  6401-1-3421-2-1-1           D1修  \n13   1  4417.70  6401-1-3421-2-1-1           D1修  ",
      "text/html": "<div>\n<style scoped>\n    .dataframe tbody tr th:only-of-type {\n        vertical-align: middle;\n    }\n\n    .dataframe tbody tr th {\n        vertical-align: top;\n    }\n\n    .dataframe thead th {\n        text-align: right;\n    }\n</style>\n<table border=\"1\" class=\"dataframe\">\n  <thead>\n    <tr style=\"text-align: right;\">\n      <th></th>\n      <th>日期</th>\n      <th>班组</th>\n      <th>物资名称</th>\n      <th>规格型号/图号/材质</th>\n      <th>计量单位</th>\n      <th>单价（元）</th>\n      <th>数量</th>\n      <th>金额</th>\n      <th>科目编号</th>\n      <th>科目名称</th>\n    </tr>\n  </thead>\n  <tbody>\n    <tr>\n      <th>0</th>\n      <td>2022.8.1</td>\n      <td>检修组</td>\n      <td>弹簧垫圈（4mm）</td>\n      <td>4mm 不锈钢</td>\n      <td>百个</td>\n      <td>4.00</td>\n      <td>1</td>\n      <td>4.00</td>\n      <td>6401-1-3421-2-1-1</td>\n      <td>D1修</td>\n    </tr>\n    <tr>\n      <th>1</th>\n      <td>2022.8.2</td>\n      <td>综合组</td>\n      <td>六角头螺栓-C级</td>\n      <td>M10×30mm 4.8 钢</td>\n      <td>百个</td>\n      <td>27.35</td>\n      <td>2</td>\n      <td>54.70</td>\n      <td>6401-1-3421-2-1-1</td>\n      <td>D1修</td>\n    </tr>\n    <tr>\n      <th>2</th>\n      <td>2022.8.3</td>\n      <td>检修组</td>\n      <td>螺栓松动剂</td>\n      <td>250ml</td>\n      <td>瓶</td>\n      <td>11.50</td>\n      <td>2</td>\n      <td>23.00</td>\n      <td>6401-1-3421-2-1-1</td>\n      <td>D1修</td>\n    </tr>\n    <tr>\n      <th>3</th>\n      <td>2022.8.4</td>\n      <td>乘务队</td>\n      <td>电茶炉胶垫</td>\n      <td>190×170 10孔</td>\n      <td>个</td>\n      <td>48.39</td>\n      <td>2</td>\n      <td>96.78</td>\n      <td>6401-1-3421-2-1-1</td>\n      <td>D1修</td>\n    </tr>\n    <tr>\n      <th>4</th>\n      <td>2022.8.5</td>\n      <td>检修组</td>\n      <td>硒鼓（88A）</td>\n      <td>HP 88A</td>\n      <td>个</td>\n      <td>110.73</td>\n      <td>2</td>\n      <td>221.46</td>\n      <td>6401-1-3615-1-1-1</td>\n      <td>微机耗材</td>\n    </tr>\n    <tr>\n      <th>5</th>\n      <td>2022.8.6</td>\n      <td>综合组</td>\n      <td>硒鼓（230A）</td>\n      <td>HP CF230A</td>\n      <td>支</td>\n      <td>59.86</td>\n      <td>2</td>\n      <td>119.72</td>\n      <td>6401-1-3615-1-1-1</td>\n      <td>微机耗材</td>\n    </tr>\n    <tr>\n      <th>6</th>\n      <td>2022.8.7</td>\n      <td>乘务队</td>\n      <td>复印纸(A3)</td>\n      <td>A3 定量70g/㎡ 宽297×长420mm 2000张/箱</td>\n      <td>箱</td>\n      <td>194.25</td>\n      <td>2</td>\n      <td>388.50</td>\n      <td>6401-1-3615-1-1-1</td>\n      <td>微机耗材</td>\n    </tr>\n    <tr>\n      <th>7</th>\n      <td>2022.8.8</td>\n      <td>综合组</td>\n      <td>地板刷</td>\n      <td>规格型号:2寸+3.5寸+4寸+5寸实心+5寸空心;</td>\n      <td>个</td>\n      <td>50.27</td>\n      <td>2</td>\n      <td>100.54</td>\n      <td>6401-1-3421-2-1-1</td>\n      <td>D1修</td>\n    </tr>\n    <tr>\n      <th>8</th>\n      <td>2022.8.9</td>\n      <td>综合组</td>\n      <td>百洁布</td>\n      <td>规格型号:普通款;</td>\n      <td>个</td>\n      <td>2.48</td>\n      <td>2</td>\n      <td>4.96</td>\n      <td>6401-1-3421-2-1-1</td>\n      <td>D1修</td>\n    </tr>\n    <tr>\n      <th>9</th>\n      <td>2022.8.10</td>\n      <td>综合组</td>\n      <td>中性笔</td>\n      <td>晨光GP1008 0.5mm 黑色 12支/盒</td>\n      <td>盒</td>\n      <td>16.19</td>\n      <td>2</td>\n      <td>32.38</td>\n      <td>6401-1-3610-1-2</td>\n      <td>纸张表格、文具等办公用品</td>\n    </tr>\n    <tr>\n      <th>10</th>\n      <td>2022.8.11</td>\n      <td>检修组</td>\n      <td>弹簧垫圈（4mm）</td>\n      <td>4mm 不锈钢</td>\n      <td>百个</td>\n      <td>4.00</td>\n      <td>15</td>\n      <td>60.00</td>\n      <td>6401-1-3421-2-1-1</td>\n      <td>D1修</td>\n    </tr>\n    <tr>\n      <th>11</th>\n      <td>2022.9.1</td>\n      <td>乘务队</td>\n      <td>电动三轮车</td>\n      <td>1.2m×0.9m 电机48V</td>\n      <td>辆</td>\n      <td>4417.70</td>\n      <td>1</td>\n      <td>4417.70</td>\n      <td>6401-1-3421-2-1-1</td>\n      <td>D1修</td>\n    </tr>\n    <tr>\n      <th>12</th>\n      <td>2022.9.2</td>\n      <td>检修组</td>\n      <td>电茶炉胶垫</td>\n      <td>190×170 10孔</td>\n      <td>个</td>\n      <td>48.39</td>\n      <td>1</td>\n      <td>48.39</td>\n      <td>6401-1-3421-2-1-1</td>\n      <td>D1修</td>\n    </tr>\n    <tr>\n      <th>13</th>\n      <td>2022.9.9</td>\n      <td>检修队</td>\n      <td>电动三轮车</td>\n      <td>1.2m×0.9m 电机48V</td>\n      <td>辆</td>\n      <td>4417.70</td>\n      <td>1</td>\n      <td>4417.70</td>\n      <td>6401-1-3421-2-1-1</td>\n      <td>D1修</td>\n    </tr>\n    <tr>\n      <th>0</th>\n      <td>2022.8.1</td>\n      <td>检修组</td>\n      <td>弹簧垫圈（4mm）</td>\n      <td>4mm 不锈钢</td>\n      <td>百个</td>\n      <td>4.00</td>\n      <td>1</td>\n      <td>4.00</td>\n      <td>6401-1-3421-2-1-1</td>\n      <td>D1修</td>\n    </tr>\n    <tr>\n      <th>1</th>\n      <td>2022.8.2</td>\n      <td>综合组</td>\n      <td>六角头螺栓-C级</td>\n      <td>M10×30mm 4.8 钢</td>\n      <td>百个</td>\n      <td>27.35</td>\n      <td>2</td>\n      <td>54.70</td>\n      <td>6401-1-3421-2-1-1</td>\n      <td>D1修</td>\n    </tr>\n    <tr>\n      <th>2</th>\n      <td>2022.8.3</td>\n      <td>检修组</td>\n      <td>螺栓松动剂</td>\n      <td>250ml</td>\n      <td>瓶</td>\n      <td>11.50</td>\n      <td>2</td>\n      <td>23.00</td>\n      <td>6401-1-3421-2-1-1</td>\n      <td>D1修</td>\n    </tr>\n    <tr>\n      <th>3</th>\n      <td>2022.8.4</td>\n      <td>乘务队</td>\n      <td>电茶炉胶垫</td>\n      <td>190×170 10孔</td>\n      <td>个</td>\n      <td>48.39</td>\n      <td>2</td>\n      <td>96.78</td>\n      <td>6401-1-3421-2-1-1</td>\n      <td>D1修</td>\n    </tr>\n    <tr>\n      <th>4</th>\n      <td>2022.8.5</td>\n      <td>检修组</td>\n      <td>硒鼓（88A）</td>\n      <td>HP 88A</td>\n      <td>个</td>\n      <td>110.73</td>\n      <td>2</td>\n      <td>221.46</td>\n      <td>6401-1-3615-1-1-1</td>\n      <td>微机耗材</td>\n    </tr>\n    <tr>\n      <th>5</th>\n      <td>2022.8.6</td>\n      <td>综合组</td>\n      <td>硒鼓（230A）</td>\n      <td>HP CF230A</td>\n      <td>支</td>\n      <td>59.86</td>\n      <td>2</td>\n      <td>119.72</td>\n      <td>6401-1-3615-1-1-1</td>\n      <td>微机耗材</td>\n    </tr>\n    <tr>\n      <th>6</th>\n      <td>2022.8.7</td>\n      <td>乘务队</td>\n      <td>复印纸(A3)</td>\n      <td>A3 定量70g/㎡ 宽297×长420mm 2000张/箱</td>\n      <td>箱</td>\n      <td>194.25</td>\n      <td>2</td>\n      <td>388.50</td>\n      <td>6401-1-3615-1-1-1</td>\n      <td>微机耗材</td>\n    </tr>\n    <tr>\n      <th>7</th>\n      <td>2022.8.8</td>\n      <td>综合组</td>\n      <td>地板刷</td>\n      <td>规格型号:2寸+3.5寸+4寸+5寸实心+5寸空心;</td>\n      <td>个</td>\n      <td>50.27</td>\n      <td>2</td>\n      <td>100.54</td>\n      <td>6401-1-3421-2-1-1</td>\n      <td>D1修</td>\n    </tr>\n    <tr>\n      <th>8</th>\n      <td>2022.8.9</td>\n      <td>综合组</td>\n      <td>百洁布</td>\n      <td>规格型号:普通款;</td>\n      <td>个</td>\n      <td>2.48</td>\n      <td>2</td>\n      <td>4.96</td>\n      <td>6401-1-3421-2-1-1</td>\n      <td>D1修</td>\n    </tr>\n    <tr>\n      <th>9</th>\n      <td>2022.8.10</td>\n      <td>综合组</td>\n      <td>中性笔</td>\n      <td>晨光GP1008 0.5mm 黑色 12支/盒</td>\n      <td>盒</td>\n      <td>16.19</td>\n      <td>2</td>\n      <td>32.38</td>\n      <td>6401-1-3610-1-2</td>\n      <td>纸张表格、文具等办公用品</td>\n    </tr>\n    <tr>\n      <th>10</th>\n      <td>2022.8.11</td>\n      <td>检修组</td>\n      <td>弹簧垫圈（4mm）</td>\n      <td>4mm 不锈钢</td>\n      <td>百个</td>\n      <td>4.00</td>\n      <td>15</td>\n      <td>60.00</td>\n      <td>6401-1-3421-2-1-1</td>\n      <td>D1修</td>\n    </tr>\n    <tr>\n      <th>11</th>\n      <td>2022.9.1</td>\n      <td>乘务队</td>\n      <td>电动三轮车</td>\n      <td>1.2m×0.9m 电机48V</td>\n      <td>辆</td>\n      <td>4417.70</td>\n      <td>1</td>\n      <td>4417.70</td>\n      <td>6401-1-3421-2-1-1</td>\n      <td>D1修</td>\n    </tr>\n    <tr>\n      <th>12</th>\n      <td>2022.9.2</td>\n      <td>检修组</td>\n      <td>电茶炉胶垫</td>\n      <td>190×170 10孔</td>\n      <td>个</td>\n      <td>48.39</td>\n      <td>1</td>\n      <td>48.39</td>\n      <td>6401-1-3421-2-1-1</td>\n      <td>D1修</td>\n    </tr>\n    <tr>\n      <th>13</th>\n      <td>2022.9.9</td>\n      <td>检修队</td>\n      <td>电动三轮车</td>\n      <td>1.2m×0.9m 电机48V</td>\n      <td>辆</td>\n      <td>4417.70</td>\n      <td>1</td>\n      <td>4417.70</td>\n      <td>6401-1-3421-2-1-1</td>\n      <td>D1修</td>\n    </tr>\n  </tbody>\n</table>\n</div>"
     },
     "execution_count": 15,
     "metadata": {},
     "output_type": "execute_result"
    }
   ],
   "source": [
    "df1 = df.__deepcopy__()\n",
    "df2 = df.__deepcopy__()\n",
    "judge = True\n",
    "for i,j in zip(df1.keys(), df2.keys()):\n",
    "    if i != j:\n",
    "        judge = False\n",
    "\n",
    "if judge:\n",
    "    df = pd.concat([df1, df2])\n",
    "\n",
    "df"
   ],
   "metadata": {
    "collapsed": false,
    "pycharm": {
     "name": "#%%\n"
    }
   }
  },
  {
   "cell_type": "code",
   "execution_count": 55,
   "outputs": [],
   "source": [
    "df = pd.read_csv('./add_on/full.csv',encoding='gbk')\n",
    "kemu = df['科目名称'].unique()\n",
    "cate = df['班组'].unique()\n",
    "total = {}\n",
    "for i in cate:\n",
    "    total[i] = {}\n",
    "    for j in kemu:\n",
    "        total[i][j] = 0\n",
    "for i in range(df.shape[0]):\n",
    "    name = df.at[i, '班组']\n",
    "    lei = df.at[i, '科目名称']\n",
    "    jin = df.at[i, '金额']\n",
    "    total[name][lei] += jin\n",
    "# return total\n",
    "\n",
    "\n",
    "\n"
   ],
   "metadata": {
    "collapsed": false,
    "pycharm": {
     "name": "#%%\n"
    }
   }
  },
  {
   "cell_type": "code",
   "execution_count": 61,
   "outputs": [
    {
     "data": {
      "text/plain": "D1修总成本              float64\nD1修消耗               float64\nD1修消耗比例             float64\n微机耗材总成本             float64\n微机耗材消耗              float64\n微机耗材消耗比例            float64\n纸张表格、文具等办公用品总成本     float64\n纸张表格、文具等办公用品消耗      float64\n纸张表格、文具等办公用品消耗比例    float64\ndtype: object"
     },
     "execution_count": 61,
     "metadata": {},
     "output_type": "execute_result"
    }
   ],
   "source": [
    "# 班组 成本 消耗 比例\n",
    "colum = ['班组']\n",
    "\n",
    "for i in kemu:\n",
    "    colum.append(i+'总成本')\n",
    "    colum.append(i+'消耗')\n",
    "    colum.append(i+'消耗比例')\n",
    "\n",
    "dd = pd.DataFrame(columns=colum)\n",
    "num = 0\n",
    "for i in cate:\n",
    "    dd.loc[num,'班组'] = i\n",
    "    num += 1\n",
    "    # dd.append([i])\n",
    "    # for j in kemu:\n",
    "    #     print(dd.loc[i,j])\n",
    "\n",
    "\n",
    "dd = dd.set_index('班组').fillna(0.0)\n",
    "for i in cate:\n",
    "    for j in kemu:\n",
    "        dd.loc[i,j+'消耗'] = total[i][j]\n"
   ],
   "metadata": {
    "collapsed": false,
    "pycharm": {
     "name": "#%%\n"
    }
   }
  },
  {
   "cell_type": "code",
   "execution_count": 68,
   "outputs": [],
   "source": [
    "def update_total(full, total):\n",
    "    cate = full['科目名称'].unique()\n",
    "    total_new = sum_new(full)\n",
    "    for i in range(total.shape[0]):\n",
    "        name = total.at[i,'班组']\n",
    "\n",
    "        for j in cate:\n",
    "            print(j)\n",
    "            j = j+'总成本'\n",
    "            cheng = total.at[i, j]\n",
    "            total_new.loc[name, j]=  cheng\n",
    "    return total_new\n",
    "    # print(total_new)\n",
    "    #\n",
    "    # for i in total.keys():\n",
    "    #     if '成本' in i:\n",
    "    #         total.at[total.shape[0] - 1, i] = total[i].sum()\n",
    "    #\n",
    "    # for i in cate:\n",
    "    #     source = i + '总成本'\n",
    "    #     cost = i + '成本消耗'\n",
    "    #     rate = i + '成本消耗比例'\n",
    "    #     total[rate] = total[cost] / total[source]\n",
    "    #\n",
    "    # return total"
   ],
   "metadata": {
    "collapsed": false,
    "pycharm": {
     "name": "#%%\n"
    }
   }
  },
  {
   "cell_type": "code",
   "execution_count": 71,
   "outputs": [
    {
     "ename": "TypeError",
     "evalue": "unhashable type: 'numpy.ndarray'",
     "output_type": "error",
     "traceback": [
      "\u001B[1;31m---------------------------------------------------------------------------\u001B[0m",
      "\u001B[1;31mTypeError\u001B[0m                                 Traceback (most recent call last)",
      "\u001B[1;32m<ipython-input-71-6bcb42054034>\u001B[0m in \u001B[0;36m<module>\u001B[1;34m\u001B[0m\n\u001B[0;32m      1\u001B[0m \u001B[0mtotal\u001B[0m \u001B[1;33m=\u001B[0m \u001B[0mpd\u001B[0m\u001B[1;33m.\u001B[0m\u001B[0mread_csv\u001B[0m\u001B[1;33m(\u001B[0m\u001B[1;34m'./add_on/total.csv'\u001B[0m\u001B[1;33m,\u001B[0m \u001B[0mencoding\u001B[0m\u001B[1;33m=\u001B[0m\u001B[1;34m'gbk'\u001B[0m\u001B[1;33m)\u001B[0m\u001B[1;33m\u001B[0m\u001B[1;33m\u001B[0m\u001B[0m\n\u001B[0;32m      2\u001B[0m \u001B[0mfull\u001B[0m \u001B[1;33m=\u001B[0m  \u001B[0mpd\u001B[0m\u001B[1;33m.\u001B[0m\u001B[0mread_csv\u001B[0m\u001B[1;33m(\u001B[0m\u001B[1;34m'./add_on/full.csv'\u001B[0m\u001B[1;33m,\u001B[0m \u001B[0mencoding\u001B[0m\u001B[1;33m=\u001B[0m\u001B[1;34m'gbk'\u001B[0m\u001B[1;33m)\u001B[0m\u001B[1;33m\u001B[0m\u001B[1;33m\u001B[0m\u001B[0m\n\u001B[1;32m----> 3\u001B[1;33m \u001B[0mupdate_total\u001B[0m\u001B[1;33m(\u001B[0m\u001B[0mfull\u001B[0m\u001B[1;33m,\u001B[0m \u001B[0mtotal\u001B[0m\u001B[1;33m)\u001B[0m\u001B[1;33m\u001B[0m\u001B[1;33m\u001B[0m\u001B[0m\n\u001B[0m",
      "\u001B[1;32m<ipython-input-68-b3f0b91c393c>\u001B[0m in \u001B[0;36mupdate_total\u001B[1;34m(full, total)\u001B[0m\n\u001B[0;32m      6\u001B[0m \u001B[1;33m\u001B[0m\u001B[0m\n\u001B[0;32m      7\u001B[0m         \u001B[1;32mfor\u001B[0m \u001B[0mj\u001B[0m \u001B[1;32min\u001B[0m \u001B[0mcate\u001B[0m\u001B[1;33m:\u001B[0m\u001B[1;33m\u001B[0m\u001B[1;33m\u001B[0m\u001B[0m\n\u001B[1;32m----> 8\u001B[1;33m             \u001B[0mcheng\u001B[0m \u001B[1;33m=\u001B[0m \u001B[0mtotal\u001B[0m\u001B[1;33m.\u001B[0m\u001B[0mat\u001B[0m\u001B[1;33m[\u001B[0m\u001B[0mi\u001B[0m\u001B[1;33m,\u001B[0m \u001B[0mcate\u001B[0m\u001B[1;33m+\u001B[0m\u001B[1;34m'总成本'\u001B[0m\u001B[1;33m]\u001B[0m\u001B[1;33m\u001B[0m\u001B[1;33m\u001B[0m\u001B[0m\n\u001B[0m\u001B[0;32m      9\u001B[0m             \u001B[0mtotal_new\u001B[0m\u001B[1;33m.\u001B[0m\u001B[0mloc\u001B[0m\u001B[1;33m[\u001B[0m\u001B[0mname\u001B[0m\u001B[1;33m,\u001B[0m \u001B[0mj\u001B[0m\u001B[1;33m]\u001B[0m\u001B[1;33m=\u001B[0m  \u001B[0mcheng\u001B[0m\u001B[1;33m\u001B[0m\u001B[1;33m\u001B[0m\u001B[0m\n\u001B[0;32m     10\u001B[0m     \u001B[1;32mreturn\u001B[0m \u001B[0mtotal_new\u001B[0m\u001B[1;33m\u001B[0m\u001B[1;33m\u001B[0m\u001B[0m\n",
      "\u001B[1;32m~\\anaconda3\\lib\\site-packages\\pandas\\core\\indexing.py\u001B[0m in \u001B[0;36m__getitem__\u001B[1;34m(self, key)\u001B[0m\n\u001B[0;32m   2273\u001B[0m             \u001B[1;32mreturn\u001B[0m \u001B[0mself\u001B[0m\u001B[1;33m.\u001B[0m\u001B[0mobj\u001B[0m\u001B[1;33m.\u001B[0m\u001B[0mloc\u001B[0m\u001B[1;33m[\u001B[0m\u001B[0mkey\u001B[0m\u001B[1;33m]\u001B[0m\u001B[1;33m\u001B[0m\u001B[1;33m\u001B[0m\u001B[0m\n\u001B[0;32m   2274\u001B[0m \u001B[1;33m\u001B[0m\u001B[0m\n\u001B[1;32m-> 2275\u001B[1;33m         \u001B[1;32mreturn\u001B[0m \u001B[0msuper\u001B[0m\u001B[1;33m(\u001B[0m\u001B[1;33m)\u001B[0m\u001B[1;33m.\u001B[0m\u001B[0m__getitem__\u001B[0m\u001B[1;33m(\u001B[0m\u001B[0mkey\u001B[0m\u001B[1;33m)\u001B[0m\u001B[1;33m\u001B[0m\u001B[1;33m\u001B[0m\u001B[0m\n\u001B[0m\u001B[0;32m   2276\u001B[0m \u001B[1;33m\u001B[0m\u001B[0m\n\u001B[0;32m   2277\u001B[0m     \u001B[1;32mdef\u001B[0m \u001B[0m__setitem__\u001B[0m\u001B[1;33m(\u001B[0m\u001B[0mself\u001B[0m\u001B[1;33m,\u001B[0m \u001B[0mkey\u001B[0m\u001B[1;33m,\u001B[0m \u001B[0mvalue\u001B[0m\u001B[1;33m)\u001B[0m\u001B[1;33m:\u001B[0m\u001B[1;33m\u001B[0m\u001B[1;33m\u001B[0m\u001B[0m\n",
      "\u001B[1;32m~\\anaconda3\\lib\\site-packages\\pandas\\core\\indexing.py\u001B[0m in \u001B[0;36m__getitem__\u001B[1;34m(self, key)\u001B[0m\n\u001B[0;32m   2220\u001B[0m \u001B[1;33m\u001B[0m\u001B[0m\n\u001B[0;32m   2221\u001B[0m         \u001B[0mkey\u001B[0m \u001B[1;33m=\u001B[0m \u001B[0mself\u001B[0m\u001B[1;33m.\u001B[0m\u001B[0m_convert_key\u001B[0m\u001B[1;33m(\u001B[0m\u001B[0mkey\u001B[0m\u001B[1;33m)\u001B[0m\u001B[1;33m\u001B[0m\u001B[1;33m\u001B[0m\u001B[0m\n\u001B[1;32m-> 2222\u001B[1;33m         \u001B[1;32mreturn\u001B[0m \u001B[0mself\u001B[0m\u001B[1;33m.\u001B[0m\u001B[0mobj\u001B[0m\u001B[1;33m.\u001B[0m\u001B[0m_get_value\u001B[0m\u001B[1;33m(\u001B[0m\u001B[1;33m*\u001B[0m\u001B[0mkey\u001B[0m\u001B[1;33m,\u001B[0m \u001B[0mtakeable\u001B[0m\u001B[1;33m=\u001B[0m\u001B[0mself\u001B[0m\u001B[1;33m.\u001B[0m\u001B[0m_takeable\u001B[0m\u001B[1;33m)\u001B[0m\u001B[1;33m\u001B[0m\u001B[1;33m\u001B[0m\u001B[0m\n\u001B[0m\u001B[0;32m   2223\u001B[0m \u001B[1;33m\u001B[0m\u001B[0m\n\u001B[0;32m   2224\u001B[0m     \u001B[1;32mdef\u001B[0m \u001B[0m__setitem__\u001B[0m\u001B[1;33m(\u001B[0m\u001B[0mself\u001B[0m\u001B[1;33m,\u001B[0m \u001B[0mkey\u001B[0m\u001B[1;33m,\u001B[0m \u001B[0mvalue\u001B[0m\u001B[1;33m)\u001B[0m\u001B[1;33m:\u001B[0m\u001B[1;33m\u001B[0m\u001B[1;33m\u001B[0m\u001B[0m\n",
      "\u001B[1;32m~\\anaconda3\\lib\\site-packages\\pandas\\core\\frame.py\u001B[0m in \u001B[0;36m_get_value\u001B[1;34m(self, index, col, takeable)\u001B[0m\n\u001B[0;32m   3566\u001B[0m             \u001B[1;32mreturn\u001B[0m \u001B[0mseries\u001B[0m\u001B[1;33m.\u001B[0m\u001B[0m_values\u001B[0m\u001B[1;33m[\u001B[0m\u001B[0mindex\u001B[0m\u001B[1;33m]\u001B[0m\u001B[1;33m\u001B[0m\u001B[1;33m\u001B[0m\u001B[0m\n\u001B[0;32m   3567\u001B[0m \u001B[1;33m\u001B[0m\u001B[0m\n\u001B[1;32m-> 3568\u001B[1;33m         \u001B[0mseries\u001B[0m \u001B[1;33m=\u001B[0m \u001B[0mself\u001B[0m\u001B[1;33m.\u001B[0m\u001B[0m_get_item_cache\u001B[0m\u001B[1;33m(\u001B[0m\u001B[0mcol\u001B[0m\u001B[1;33m)\u001B[0m\u001B[1;33m\u001B[0m\u001B[1;33m\u001B[0m\u001B[0m\n\u001B[0m\u001B[0;32m   3569\u001B[0m         \u001B[0mengine\u001B[0m \u001B[1;33m=\u001B[0m \u001B[0mself\u001B[0m\u001B[1;33m.\u001B[0m\u001B[0mindex\u001B[0m\u001B[1;33m.\u001B[0m\u001B[0m_engine\u001B[0m\u001B[1;33m\u001B[0m\u001B[1;33m\u001B[0m\u001B[0m\n\u001B[0;32m   3570\u001B[0m \u001B[1;33m\u001B[0m\u001B[0m\n",
      "\u001B[1;32m~\\anaconda3\\lib\\site-packages\\pandas\\core\\frame.py\u001B[0m in \u001B[0;36m_get_item_cache\u001B[1;34m(self, item)\u001B[0m\n\u001B[0;32m   3877\u001B[0m         \u001B[1;34m\"\"\"Return the cached item, item represents a label indexer.\"\"\"\u001B[0m\u001B[1;33m\u001B[0m\u001B[1;33m\u001B[0m\u001B[0m\n\u001B[0;32m   3878\u001B[0m         \u001B[0mcache\u001B[0m \u001B[1;33m=\u001B[0m \u001B[0mself\u001B[0m\u001B[1;33m.\u001B[0m\u001B[0m_item_cache\u001B[0m\u001B[1;33m\u001B[0m\u001B[1;33m\u001B[0m\u001B[0m\n\u001B[1;32m-> 3879\u001B[1;33m         \u001B[0mres\u001B[0m \u001B[1;33m=\u001B[0m \u001B[0mcache\u001B[0m\u001B[1;33m.\u001B[0m\u001B[0mget\u001B[0m\u001B[1;33m(\u001B[0m\u001B[0mitem\u001B[0m\u001B[1;33m)\u001B[0m\u001B[1;33m\u001B[0m\u001B[1;33m\u001B[0m\u001B[0m\n\u001B[0m\u001B[0;32m   3880\u001B[0m         \u001B[1;32mif\u001B[0m \u001B[0mres\u001B[0m \u001B[1;32mis\u001B[0m \u001B[1;32mNone\u001B[0m\u001B[1;33m:\u001B[0m\u001B[1;33m\u001B[0m\u001B[1;33m\u001B[0m\u001B[0m\n\u001B[0;32m   3881\u001B[0m             \u001B[1;31m# All places that call _get_item_cache have unique columns,\u001B[0m\u001B[1;33m\u001B[0m\u001B[1;33m\u001B[0m\u001B[1;33m\u001B[0m\u001B[0m\n",
      "\u001B[1;31mTypeError\u001B[0m: unhashable type: 'numpy.ndarray'"
     ]
    }
   ],
   "source": [],
   "metadata": {
    "collapsed": false,
    "pycharm": {
     "name": "#%%\n"
    }
   }
  },
  {
   "cell_type": "code",
   "execution_count": 103,
   "outputs": [],
   "source": [
    "def sum_new(df):\n",
    "    # df = pd.read_csv('./add_on/full.csv', encoding='gbk')\n",
    "    kemu = df['科目名称'].unique()\n",
    "    cate = df['班组'].unique()\n",
    "    total = {}\n",
    "    for i in cate:\n",
    "        total[i] = {}\n",
    "        for j in kemu:\n",
    "            total[i][j] = 0\n",
    "    for i in range(df.shape[0]):\n",
    "        name = df.at[i, '班组']\n",
    "        lei = df.at[i, '科目名称']\n",
    "        jin = df.at[i, '金额']\n",
    "        total[name][lei] += jin\n",
    "\n",
    "    colum = ['班组']\n",
    "\n",
    "    for i in kemu:\n",
    "        colum.append(i + '总成本')\n",
    "        colum.append(i + '消耗')\n",
    "        colum.append(i + '消耗比例')\n",
    "\n",
    "    dd = pd.DataFrame(columns=colum)\n",
    "    num = 0\n",
    "    for i in cate:\n",
    "        dd.loc[num, '班组'] = i\n",
    "        num += 1\n",
    "\n",
    "\n",
    "    dd = dd.set_index('班组', drop=False).fillna(0.0)\n",
    "    for i in cate:\n",
    "        for j in kemu:\n",
    "            dd.loc[i, j + '消耗'] = total[i][j]\n",
    "    return dd"
   ],
   "metadata": {
    "collapsed": false,
    "pycharm": {
     "name": "#%%\n"
    }
   }
  },
  {
   "cell_type": "code",
   "execution_count": 141,
   "outputs": [
    {
     "data": {
      "text/plain": "      班组  D1修总成本     D1修消耗     D1修消耗比例  微机耗材总成本   微机耗材消耗  微机耗材消耗比例  \\\n班组                                                                   \n综合组  综合组   180.0    384.40    2.135556   3232.0   627.94  0.194288   \n检修组  检修组    37.0   4624.48  124.985946    230.0   442.92  1.925739   \n乘务队  乘务队   111.0   9028.96   81.341982    231.0   388.50  1.681818   \n检修队  检修队   110.0   4417.70   40.160909      0.0     0.00  0.000000   \n总    0.0   438.0  18455.54   42.135936   3693.0  1459.36  0.395169   \n\n     纸张表格、文具等办公用品总成本  纸张表格、文具等办公用品消耗  纸张表格、文具等办公用品消耗比例  \n班组                                                      \n综合组             50.0           64.76          1.295200  \n检修组             14.0            0.00          0.000000  \n乘务队              3.0            0.00          0.000000  \n检修队              0.0            0.00          0.000000  \n总               67.0           64.76          0.966567  ",
      "text/html": "<div>\n<style scoped>\n    .dataframe tbody tr th:only-of-type {\n        vertical-align: middle;\n    }\n\n    .dataframe tbody tr th {\n        vertical-align: top;\n    }\n\n    .dataframe thead th {\n        text-align: right;\n    }\n</style>\n<table border=\"1\" class=\"dataframe\">\n  <thead>\n    <tr style=\"text-align: right;\">\n      <th></th>\n      <th>班组</th>\n      <th>D1修总成本</th>\n      <th>D1修消耗</th>\n      <th>D1修消耗比例</th>\n      <th>微机耗材总成本</th>\n      <th>微机耗材消耗</th>\n      <th>微机耗材消耗比例</th>\n      <th>纸张表格、文具等办公用品总成本</th>\n      <th>纸张表格、文具等办公用品消耗</th>\n      <th>纸张表格、文具等办公用品消耗比例</th>\n    </tr>\n    <tr>\n      <th>班组</th>\n      <th></th>\n      <th></th>\n      <th></th>\n      <th></th>\n      <th></th>\n      <th></th>\n      <th></th>\n      <th></th>\n      <th></th>\n      <th></th>\n    </tr>\n  </thead>\n  <tbody>\n    <tr>\n      <th>综合组</th>\n      <td>综合组</td>\n      <td>180.0</td>\n      <td>384.40</td>\n      <td>2.135556</td>\n      <td>3232.0</td>\n      <td>627.94</td>\n      <td>0.194288</td>\n      <td>50.0</td>\n      <td>64.76</td>\n      <td>1.295200</td>\n    </tr>\n    <tr>\n      <th>检修组</th>\n      <td>检修组</td>\n      <td>37.0</td>\n      <td>4624.48</td>\n      <td>124.985946</td>\n      <td>230.0</td>\n      <td>442.92</td>\n      <td>1.925739</td>\n      <td>14.0</td>\n      <td>0.00</td>\n      <td>0.000000</td>\n    </tr>\n    <tr>\n      <th>乘务队</th>\n      <td>乘务队</td>\n      <td>111.0</td>\n      <td>9028.96</td>\n      <td>81.341982</td>\n      <td>231.0</td>\n      <td>388.50</td>\n      <td>1.681818</td>\n      <td>3.0</td>\n      <td>0.00</td>\n      <td>0.000000</td>\n    </tr>\n    <tr>\n      <th>检修队</th>\n      <td>检修队</td>\n      <td>110.0</td>\n      <td>4417.70</td>\n      <td>40.160909</td>\n      <td>0.0</td>\n      <td>0.00</td>\n      <td>0.000000</td>\n      <td>0.0</td>\n      <td>0.00</td>\n      <td>0.000000</td>\n    </tr>\n    <tr>\n      <th>总</th>\n      <td>0.0</td>\n      <td>438.0</td>\n      <td>18455.54</td>\n      <td>42.135936</td>\n      <td>3693.0</td>\n      <td>1459.36</td>\n      <td>0.395169</td>\n      <td>67.0</td>\n      <td>64.76</td>\n      <td>0.966567</td>\n    </tr>\n  </tbody>\n</table>\n</div>"
     },
     "execution_count": 141,
     "metadata": {},
     "output_type": "execute_result"
    }
   ],
   "source": [
    "total = pd.read_csv('./add_on/total.csv', encoding='gbk')\n",
    "full =  pd.read_csv('./add_on/full.csv', encoding='gbk')\n",
    "# update_total(full, total)\n",
    "import numpy as np\n",
    "\n",
    "\n",
    "cate = full['科目名称'].unique()\n",
    "total_new = sum_new(full)\n",
    "# print(total_new)\n",
    "for i in range(total.shape[0]):\n",
    "    name = total.at[i,'班组']\n",
    "    if name=='车间成本':\n",
    "        continue\n",
    "    for j in cate:\n",
    "        j = j+'总成本'\n",
    "        cheng = total.at[i, j]\n",
    "        total_new.loc[name, j]=  cheng\n",
    "name = '总'\n",
    "total_new = total_new.drop('总', axis=0)\n",
    "# print(total_new)\n",
    "# print(total_new['D1修总成本'])\n",
    "total_new.loc[name] = total_new.apply(lambda x: pd.to_numeric(x, errors='coerce').sum())\n",
    "\n",
    "\n",
    "for i in kemu:\n",
    "    source = i + '总成本'\n",
    "    cost = i + '消耗'\n",
    "    rate = i + '消耗比例'\n",
    "    total_new[rate] = total_new[cost] / total_new[source]\n",
    "total_new = total_new.replace([np.inf], 1)\n",
    "# total_new = total_new.reindex()\n",
    "total_new = total_new.fillna(0)\n",
    "total_new\n",
    "\n"
   ],
   "metadata": {
    "collapsed": false,
    "pycharm": {
     "name": "#%%\n"
    }
   }
  },
  {
   "cell_type": "code",
   "execution_count": null,
   "outputs": [],
   "source": [],
   "metadata": {
    "collapsed": false,
    "pycharm": {
     "name": "#%%\n"
    }
   }
  }
 ],
 "metadata": {
  "kernelspec": {
   "display_name": "Python 3",
   "language": "python",
   "name": "python3"
  },
  "language_info": {
   "codemirror_mode": {
    "name": "ipython",
    "version": 2
   },
   "file_extension": ".py",
   "mimetype": "text/x-python",
   "name": "python",
   "nbconvert_exporter": "python",
   "pygments_lexer": "ipython2",
   "version": "2.7.6"
  }
 },
 "nbformat": 4,
 "nbformat_minor": 0
}