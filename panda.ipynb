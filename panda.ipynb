{
 "cells": [
  {
   "cell_type": "code",
   "execution_count": 5,
   "outputs": [],
   "source": [
    "import pandas as pd"
   ],
   "metadata": {
    "collapsed": false,
    "pycharm": {
     "name": "#%%\n"
    }
   }
  },
  {
   "cell_type": "code",
   "execution_count": 6,
   "outputs": [
    {
     "data": {
      "text/plain": "   Unnamed: 0        日期   班组         物资编码       物资名称      规格型号/图号/材质 计量单位  \\\n0           0  2022.8.1  检修组    2.551E+11  弹簧垫圈（4mm）         4mm 不锈钢   百个   \n1           1  2022.8.2  综合组      2.5E+11   六角头螺栓-C级  M10×30mm 4.8 钢   百个   \n2           2  2022.8.3  检修组  14090000389      螺栓松动剂           250ml    瓶   \n3           3  2022.8.4  乘务队    9.551E+11      电茶炉胶垫     190×170 10孔    个   \n4           4  2022.8.5  检修组   5.2081E+11    硒鼓（88A）          HP 88A    个   \n\n    单价（元）  数量      金额               科目编号  科目名称  \n0    4.00   1    4.00  6401-1-3421-2-1-1   D1修  \n1   27.35   2   54.70  6401-1-3421-2-1-1   D1修  \n2   11.50   2   23.00  6401-1-3421-2-1-1   D1修  \n3   48.39   2   96.78  6401-1-3421-2-1-1   D1修  \n4  110.73   2  221.46  6401-1-3615-1-1-1  微机耗材  ",
      "text/html": "<div>\n<style scoped>\n    .dataframe tbody tr th:only-of-type {\n        vertical-align: middle;\n    }\n\n    .dataframe tbody tr th {\n        vertical-align: top;\n    }\n\n    .dataframe thead th {\n        text-align: right;\n    }\n</style>\n<table border=\"1\" class=\"dataframe\">\n  <thead>\n    <tr style=\"text-align: right;\">\n      <th></th>\n      <th>Unnamed: 0</th>\n      <th>日期</th>\n      <th>班组</th>\n      <th>物资编码</th>\n      <th>物资名称</th>\n      <th>规格型号/图号/材质</th>\n      <th>计量单位</th>\n      <th>单价（元）</th>\n      <th>数量</th>\n      <th>金额</th>\n      <th>科目编号</th>\n      <th>科目名称</th>\n    </tr>\n  </thead>\n  <tbody>\n    <tr>\n      <th>0</th>\n      <td>0</td>\n      <td>2022.8.1</td>\n      <td>检修组</td>\n      <td>2.551E+11</td>\n      <td>弹簧垫圈（4mm）</td>\n      <td>4mm 不锈钢</td>\n      <td>百个</td>\n      <td>4.00</td>\n      <td>1</td>\n      <td>4.00</td>\n      <td>6401-1-3421-2-1-1</td>\n      <td>D1修</td>\n    </tr>\n    <tr>\n      <th>1</th>\n      <td>1</td>\n      <td>2022.8.2</td>\n      <td>综合组</td>\n      <td>2.5E+11</td>\n      <td>六角头螺栓-C级</td>\n      <td>M10×30mm 4.8 钢</td>\n      <td>百个</td>\n      <td>27.35</td>\n      <td>2</td>\n      <td>54.70</td>\n      <td>6401-1-3421-2-1-1</td>\n      <td>D1修</td>\n    </tr>\n    <tr>\n      <th>2</th>\n      <td>2</td>\n      <td>2022.8.3</td>\n      <td>检修组</td>\n      <td>14090000389</td>\n      <td>螺栓松动剂</td>\n      <td>250ml</td>\n      <td>瓶</td>\n      <td>11.50</td>\n      <td>2</td>\n      <td>23.00</td>\n      <td>6401-1-3421-2-1-1</td>\n      <td>D1修</td>\n    </tr>\n    <tr>\n      <th>3</th>\n      <td>3</td>\n      <td>2022.8.4</td>\n      <td>乘务队</td>\n      <td>9.551E+11</td>\n      <td>电茶炉胶垫</td>\n      <td>190×170 10孔</td>\n      <td>个</td>\n      <td>48.39</td>\n      <td>2</td>\n      <td>96.78</td>\n      <td>6401-1-3421-2-1-1</td>\n      <td>D1修</td>\n    </tr>\n    <tr>\n      <th>4</th>\n      <td>4</td>\n      <td>2022.8.5</td>\n      <td>检修组</td>\n      <td>5.2081E+11</td>\n      <td>硒鼓（88A）</td>\n      <td>HP 88A</td>\n      <td>个</td>\n      <td>110.73</td>\n      <td>2</td>\n      <td>221.46</td>\n      <td>6401-1-3615-1-1-1</td>\n      <td>微机耗材</td>\n    </tr>\n  </tbody>\n</table>\n</div>"
     },
     "execution_count": 6,
     "metadata": {},
     "output_type": "execute_result"
    }
   ],
   "source": [
    "df = pd.read_csv('./full.csv',encoding='gbk')\n",
    "df.head()"
   ],
   "metadata": {
    "collapsed": false,
    "pycharm": {
     "name": "#%%\n"
    }
   }
  },
  {
   "cell_type": "code",
   "execution_count": 7,
   "outputs": [
    {
     "data": {
      "text/plain": "{'Unnamed: 0': {0: 0,\n  1: 1,\n  2: 2,\n  3: 3,\n  4: 4,\n  5: 5,\n  6: 6,\n  7: 7,\n  8: 8,\n  9: 9,\n  10: 10,\n  11: 0},\n '日期': {0: '2022.8.1',\n  1: '2022.8.2',\n  2: '2022.8.3',\n  3: '2022.8.4',\n  4: '2022.8.5',\n  5: '2022.8.6',\n  6: '2022.8.7',\n  7: '2022.8.8',\n  8: '2022.8.9',\n  9: '2022.8.10',\n  10: '2022.8.11',\n  11: '2022.9.1'},\n '班组': {0: '检修组',\n  1: '综合组',\n  2: '检修组',\n  3: '乘务队',\n  4: '检修组',\n  5: '综合组',\n  6: '乘务队',\n  7: '综合组',\n  8: '综合组',\n  9: '综合组',\n  10: '检修组',\n  11: '乘务组'},\n '物资编码': {0: '2.551E+11',\n  1: '2.5E+11',\n  2: '14090000389',\n  3: '9.551E+11',\n  4: '5.2081E+11',\n  5: '5.2081E+11',\n  6: '17400072020',\n  7: 'E21004002674',\n  8: 'J03003000515',\n  9: '18840005400',\n  10: '2.551E+11',\n  11: '2.129E+11'},\n '物资名称': {0: '弹簧垫圈（4mm）',\n  1: '六角头螺栓-C级',\n  2: '螺栓松动剂',\n  3: '电茶炉胶垫',\n  4: '硒鼓（88A）',\n  5: '硒鼓（230A）',\n  6: '复印纸(A3)',\n  7: '地板刷',\n  8: '百洁布',\n  9: '中性笔',\n  10: '弹簧垫圈（4mm）',\n  11: '电动三轮车'},\n '规格型号/图号/材质': {0: '4mm 不锈钢',\n  1: 'M10×30mm 4.8 钢',\n  2: '250ml',\n  3: '190×170 10孔',\n  4: 'HP 88A',\n  5: 'HP CF230A',\n  6: 'A3 定量70g/㎡ 宽297×长420mm 2000张/箱',\n  7: '规格型号:2寸+3.5寸+4寸+5寸实心+5寸空心;',\n  8: '规格型号:普通款;',\n  9: '晨光GP1008 0.5mm 黑色 12支/盒',\n  10: '4mm 不锈钢',\n  11: '1.2m×0.9m 电机48V'},\n '计量单位': {0: '百个',\n  1: '百个',\n  2: '瓶',\n  3: '个',\n  4: '个',\n  5: '支',\n  6: '箱',\n  7: '个',\n  8: '个',\n  9: '盒',\n  10: '百个',\n  11: '辆'},\n '单价（元）': {0: 4.0,\n  1: 27.35,\n  2: 11.5,\n  3: 48.39,\n  4: 110.73,\n  5: 59.86,\n  6: 194.25,\n  7: 50.27,\n  8: 2.48,\n  9: 16.19,\n  10: 4.0,\n  11: 4417.7},\n '数量': {0: 1,\n  1: 2,\n  2: 2,\n  3: 2,\n  4: 2,\n  5: 2,\n  6: 2,\n  7: 2,\n  8: 2,\n  9: 2,\n  10: 15,\n  11: 1},\n '金额': {0: 4.0,\n  1: 54.7,\n  2: 23.0,\n  3: 96.78,\n  4: 221.46,\n  5: 119.72,\n  6: 388.5,\n  7: 100.54,\n  8: 4.96,\n  9: 32.38,\n  10: 60.0,\n  11: 4417.7},\n '科目编号': {0: '6401-1-3421-2-1-1',\n  1: '6401-1-3421-2-1-1',\n  2: '6401-1-3421-2-1-1',\n  3: '6401-1-3421-2-1-1',\n  4: '6401-1-3615-1-1-1',\n  5: '6401-1-3615-1-1-1',\n  6: '6401-1-3615-1-1-1',\n  7: '6401-1-3421-2-1-1',\n  8: '6401-1-3421-2-1-1',\n  9: '6401-1-3610-1-2',\n  10: '6401-1-3421-2-1-1',\n  11: '6401-1-3421-2-1-1'},\n '科目名称': {0: 'D1修',\n  1: 'D1修',\n  2: 'D1修',\n  3: 'D1修',\n  4: '微机耗材',\n  5: '微机耗材',\n  6: '微机耗材',\n  7: 'D1修',\n  8: 'D1修',\n  9: '纸张表格、文具等办公用品',\n  10: 'D1修',\n  11: 'D1修'}}"
     },
     "execution_count": 7,
     "metadata": {},
     "output_type": "execute_result"
    }
   ],
   "source": [
    "df.to_dict()"
   ],
   "metadata": {
    "collapsed": false,
    "pycharm": {
     "name": "#%%\n"
    }
   }
  },
  {
   "cell_type": "markdown",
   "source": [],
   "metadata": {
    "collapsed": false,
    "pycharm": {
     "name": "#%% md\n"
    }
   }
  },
  {
   "cell_type": "code",
   "execution_count": 8,
   "outputs": [
    {
     "data": {
      "text/plain": "   Unnamed: 0        日期   班组         物资编码       物资名称      规格型号/图号/材质 计量单位  \\\n0           0  2022.8.1  检修组    2.551E+11  弹簧垫圈（4mm）         4mm 不锈钢   百个   \n1           1  2022.8.2  综合组      2.5E+11   六角头螺栓-C级  M10×30mm 4.8 钢   百个   \n2           2  2022.8.3  检修组  14090000389      螺栓松动剂           250ml    瓶   \n3           3  2022.8.4  乘务队    9.551E+11      电茶炉胶垫     190×170 10孔    个   \n4           4  2022.8.5  检修组   5.2081E+11    硒鼓（88A）          HP 88A    个   \n\n    单价（元）  数量      金额               科目编号  科目名称      go  \n0    4.00   1    4.00  6401-1-3421-2-1-1   D1修    4.00  \n1   27.35   2   54.70  6401-1-3421-2-1-1   D1修   54.70  \n2   11.50   2   23.00  6401-1-3421-2-1-1   D1修   23.00  \n3   48.39   2   96.78  6401-1-3421-2-1-1   D1修   96.78  \n4  110.73   2  221.46  6401-1-3615-1-1-1  微机耗材  221.46  ",
      "text/html": "<div>\n<style scoped>\n    .dataframe tbody tr th:only-of-type {\n        vertical-align: middle;\n    }\n\n    .dataframe tbody tr th {\n        vertical-align: top;\n    }\n\n    .dataframe thead th {\n        text-align: right;\n    }\n</style>\n<table border=\"1\" class=\"dataframe\">\n  <thead>\n    <tr style=\"text-align: right;\">\n      <th></th>\n      <th>Unnamed: 0</th>\n      <th>日期</th>\n      <th>班组</th>\n      <th>物资编码</th>\n      <th>物资名称</th>\n      <th>规格型号/图号/材质</th>\n      <th>计量单位</th>\n      <th>单价（元）</th>\n      <th>数量</th>\n      <th>金额</th>\n      <th>科目编号</th>\n      <th>科目名称</th>\n      <th>go</th>\n    </tr>\n  </thead>\n  <tbody>\n    <tr>\n      <th>0</th>\n      <td>0</td>\n      <td>2022.8.1</td>\n      <td>检修组</td>\n      <td>2.551E+11</td>\n      <td>弹簧垫圈（4mm）</td>\n      <td>4mm 不锈钢</td>\n      <td>百个</td>\n      <td>4.00</td>\n      <td>1</td>\n      <td>4.00</td>\n      <td>6401-1-3421-2-1-1</td>\n      <td>D1修</td>\n      <td>4.00</td>\n    </tr>\n    <tr>\n      <th>1</th>\n      <td>1</td>\n      <td>2022.8.2</td>\n      <td>综合组</td>\n      <td>2.5E+11</td>\n      <td>六角头螺栓-C级</td>\n      <td>M10×30mm 4.8 钢</td>\n      <td>百个</td>\n      <td>27.35</td>\n      <td>2</td>\n      <td>54.70</td>\n      <td>6401-1-3421-2-1-1</td>\n      <td>D1修</td>\n      <td>54.70</td>\n    </tr>\n    <tr>\n      <th>2</th>\n      <td>2</td>\n      <td>2022.8.3</td>\n      <td>检修组</td>\n      <td>14090000389</td>\n      <td>螺栓松动剂</td>\n      <td>250ml</td>\n      <td>瓶</td>\n      <td>11.50</td>\n      <td>2</td>\n      <td>23.00</td>\n      <td>6401-1-3421-2-1-1</td>\n      <td>D1修</td>\n      <td>23.00</td>\n    </tr>\n    <tr>\n      <th>3</th>\n      <td>3</td>\n      <td>2022.8.4</td>\n      <td>乘务队</td>\n      <td>9.551E+11</td>\n      <td>电茶炉胶垫</td>\n      <td>190×170 10孔</td>\n      <td>个</td>\n      <td>48.39</td>\n      <td>2</td>\n      <td>96.78</td>\n      <td>6401-1-3421-2-1-1</td>\n      <td>D1修</td>\n      <td>96.78</td>\n    </tr>\n    <tr>\n      <th>4</th>\n      <td>4</td>\n      <td>2022.8.5</td>\n      <td>检修组</td>\n      <td>5.2081E+11</td>\n      <td>硒鼓（88A）</td>\n      <td>HP 88A</td>\n      <td>个</td>\n      <td>110.73</td>\n      <td>2</td>\n      <td>221.46</td>\n      <td>6401-1-3615-1-1-1</td>\n      <td>微机耗材</td>\n      <td>221.46</td>\n    </tr>\n  </tbody>\n</table>\n</div>"
     },
     "execution_count": 8,
     "metadata": {},
     "output_type": "execute_result"
    }
   ],
   "source": [
    "df= pd.read_csv('./full.csv', encoding='gbk')\n",
    "# df.info()\n",
    "# df.index\n",
    "df.head()\n",
    "df['go'] = df['单价（元）'] * df['数量']\n",
    "# col.mul()\n",
    "df.head()"
   ],
   "metadata": {
    "collapsed": false,
    "pycharm": {
     "name": "#%%\n"
    }
   }
  },
  {
   "cell_type": "code",
   "execution_count": 9,
   "outputs": [
    {
     "data": {
      "text/plain": "   Unnamed: 0        日期   班组         物资编码       物资名称      规格型号/图号/材质 计量单位  \\\n0           0  2022.8.1  检修组    2.551E+11  弹簧垫圈（4mm）         4mm 不锈钢   百个   \n1           1  2022.8.2  综合组      2.5E+11   六角头螺栓-C级  M10×30mm 4.8 钢   百个   \n2           2  2022.8.3  检修组  14090000389      螺栓松动剂           250ml    瓶   \n3           3  2022.8.4  乘务队    9.551E+11      电茶炉胶垫     190×170 10孔    个   \n4           4  2022.8.5  检修组   5.2081E+11    硒鼓（88A）          HP 88A    个   \n\n    单价（元）  数量      金额               科目编号  科目名称      go  \n0    4.00   1    4.00  6401-1-3421-2-1-1   D1修    4.00  \n1   27.35   2   54.70  6401-1-3421-2-1-1   D1修   54.70  \n2   11.50   2   23.00  6401-1-3421-2-1-1   D1修   23.00  \n3   48.39   2   96.78  6401-1-3421-2-1-1   D1修   96.78  \n4  110.73   2  221.46  6401-1-3615-1-1-1  微机耗材  221.46  ",
      "text/html": "<div>\n<style scoped>\n    .dataframe tbody tr th:only-of-type {\n        vertical-align: middle;\n    }\n\n    .dataframe tbody tr th {\n        vertical-align: top;\n    }\n\n    .dataframe thead th {\n        text-align: right;\n    }\n</style>\n<table border=\"1\" class=\"dataframe\">\n  <thead>\n    <tr style=\"text-align: right;\">\n      <th></th>\n      <th>Unnamed: 0</th>\n      <th>日期</th>\n      <th>班组</th>\n      <th>物资编码</th>\n      <th>物资名称</th>\n      <th>规格型号/图号/材质</th>\n      <th>计量单位</th>\n      <th>单价（元）</th>\n      <th>数量</th>\n      <th>金额</th>\n      <th>科目编号</th>\n      <th>科目名称</th>\n      <th>go</th>\n    </tr>\n  </thead>\n  <tbody>\n    <tr>\n      <th>0</th>\n      <td>0</td>\n      <td>2022.8.1</td>\n      <td>检修组</td>\n      <td>2.551E+11</td>\n      <td>弹簧垫圈（4mm）</td>\n      <td>4mm 不锈钢</td>\n      <td>百个</td>\n      <td>4.00</td>\n      <td>1</td>\n      <td>4.00</td>\n      <td>6401-1-3421-2-1-1</td>\n      <td>D1修</td>\n      <td>4.00</td>\n    </tr>\n    <tr>\n      <th>1</th>\n      <td>1</td>\n      <td>2022.8.2</td>\n      <td>综合组</td>\n      <td>2.5E+11</td>\n      <td>六角头螺栓-C级</td>\n      <td>M10×30mm 4.8 钢</td>\n      <td>百个</td>\n      <td>27.35</td>\n      <td>2</td>\n      <td>54.70</td>\n      <td>6401-1-3421-2-1-1</td>\n      <td>D1修</td>\n      <td>54.70</td>\n    </tr>\n    <tr>\n      <th>2</th>\n      <td>2</td>\n      <td>2022.8.3</td>\n      <td>检修组</td>\n      <td>14090000389</td>\n      <td>螺栓松动剂</td>\n      <td>250ml</td>\n      <td>瓶</td>\n      <td>11.50</td>\n      <td>2</td>\n      <td>23.00</td>\n      <td>6401-1-3421-2-1-1</td>\n      <td>D1修</td>\n      <td>23.00</td>\n    </tr>\n    <tr>\n      <th>3</th>\n      <td>3</td>\n      <td>2022.8.4</td>\n      <td>乘务队</td>\n      <td>9.551E+11</td>\n      <td>电茶炉胶垫</td>\n      <td>190×170 10孔</td>\n      <td>个</td>\n      <td>48.39</td>\n      <td>2</td>\n      <td>96.78</td>\n      <td>6401-1-3421-2-1-1</td>\n      <td>D1修</td>\n      <td>96.78</td>\n    </tr>\n    <tr>\n      <th>4</th>\n      <td>4</td>\n      <td>2022.8.5</td>\n      <td>检修组</td>\n      <td>5.2081E+11</td>\n      <td>硒鼓（88A）</td>\n      <td>HP 88A</td>\n      <td>个</td>\n      <td>110.73</td>\n      <td>2</td>\n      <td>221.46</td>\n      <td>6401-1-3615-1-1-1</td>\n      <td>微机耗材</td>\n      <td>221.46</td>\n    </tr>\n  </tbody>\n</table>\n</div>"
     },
     "execution_count": 9,
     "metadata": {},
     "output_type": "execute_result"
    }
   ],
   "source": [
    "df.head()\n"
   ],
   "metadata": {
    "collapsed": false,
    "pycharm": {
     "name": "#%%\n"
    }
   }
  },
  {
   "cell_type": "code",
   "execution_count": 10,
   "outputs": [
    {
     "name": "stdout",
     "output_type": "stream",
     "text": [
      "(12, 13)\n",
      "(13, 13)\n"
     ]
    },
    {
     "data": {
      "text/plain": "    Unnamed: 0         日期   班组          物资编码       物资名称  \\\n0            0   2022.8.1  检修组     2.551E+11  弹簧垫圈（4mm）   \n1            1   2022.8.2  综合组       2.5E+11   六角头螺栓-C级   \n2            2   2022.8.3  检修组   14090000389      螺栓松动剂   \n3            3   2022.8.4  乘务队     9.551E+11      电茶炉胶垫   \n4            4   2022.8.5  检修组    5.2081E+11    硒鼓（88A）   \n5            5   2022.8.6  综合组    5.2081E+11   硒鼓（230A）   \n6            6   2022.8.7  乘务队   17400072020    复印纸(A3)   \n7            7   2022.8.8  综合组  E21004002674        地板刷   \n8            8   2022.8.9  综合组  J03003000515        百洁布   \n9            9  2022.8.10  综合组   18840005400        中性笔   \n10          10  2022.8.11  检修组     2.551E+11  弹簧垫圈（4mm）   \n11           0   2022.9.1  乘务组     2.129E+11      电动三轮车   \n13           2   2022.8.3  检修组   14090000389      螺栓松动剂   \n\n                        规格型号/图号/材质 计量单位    单价（元）  数量       金额  \\\n0                          4mm 不锈钢   百个     4.00   1     4.00   \n1                   M10×30mm 4.8 钢   百个    27.35   2    54.70   \n2                            250ml    瓶    11.50   2    23.00   \n3                      190×170 10孔    个    48.39   2    96.78   \n4                           HP 88A    个   110.73   2   221.46   \n5                        HP CF230A    支    59.86   2   119.72   \n6   A3 定量70g/㎡ 宽297×长420mm 2000张/箱    箱   194.25   2   388.50   \n7       规格型号:2寸+3.5寸+4寸+5寸实心+5寸空心;    个    50.27   2   100.54   \n8                        规格型号:普通款;    个     2.48   2     4.96   \n9          晨光GP1008 0.5mm 黑色 12支/盒    盒    16.19   2    32.38   \n10                         4mm 不锈钢   百个     4.00  15    60.00   \n11                 1.2m×0.9m 电机48V    辆  4417.70   1  4417.70   \n13                           250ml    瓶    11.50   2    23.00   \n\n                 科目编号          科目名称       go  \n0   6401-1-3421-2-1-1           D1修     4.00  \n1   6401-1-3421-2-1-1           D1修    54.70  \n2   6401-1-3421-2-1-1           D1修    23.00  \n3   6401-1-3421-2-1-1           D1修    96.78  \n4   6401-1-3615-1-1-1          微机耗材   221.46  \n5   6401-1-3615-1-1-1          微机耗材   119.72  \n6   6401-1-3615-1-1-1          微机耗材   388.50  \n7   6401-1-3421-2-1-1           D1修   100.54  \n8   6401-1-3421-2-1-1           D1修     4.96  \n9     6401-1-3610-1-2  纸张表格、文具等办公用品    32.38  \n10  6401-1-3421-2-1-1           D1修    60.00  \n11  6401-1-3421-2-1-1           D1修  4417.70  \n13  6401-1-3421-2-1-1           D1修    23.00  ",
      "text/html": "<div>\n<style scoped>\n    .dataframe tbody tr th:only-of-type {\n        vertical-align: middle;\n    }\n\n    .dataframe tbody tr th {\n        vertical-align: top;\n    }\n\n    .dataframe thead th {\n        text-align: right;\n    }\n</style>\n<table border=\"1\" class=\"dataframe\">\n  <thead>\n    <tr style=\"text-align: right;\">\n      <th></th>\n      <th>Unnamed: 0</th>\n      <th>日期</th>\n      <th>班组</th>\n      <th>物资编码</th>\n      <th>物资名称</th>\n      <th>规格型号/图号/材质</th>\n      <th>计量单位</th>\n      <th>单价（元）</th>\n      <th>数量</th>\n      <th>金额</th>\n      <th>科目编号</th>\n      <th>科目名称</th>\n      <th>go</th>\n    </tr>\n  </thead>\n  <tbody>\n    <tr>\n      <th>0</th>\n      <td>0</td>\n      <td>2022.8.1</td>\n      <td>检修组</td>\n      <td>2.551E+11</td>\n      <td>弹簧垫圈（4mm）</td>\n      <td>4mm 不锈钢</td>\n      <td>百个</td>\n      <td>4.00</td>\n      <td>1</td>\n      <td>4.00</td>\n      <td>6401-1-3421-2-1-1</td>\n      <td>D1修</td>\n      <td>4.00</td>\n    </tr>\n    <tr>\n      <th>1</th>\n      <td>1</td>\n      <td>2022.8.2</td>\n      <td>综合组</td>\n      <td>2.5E+11</td>\n      <td>六角头螺栓-C级</td>\n      <td>M10×30mm 4.8 钢</td>\n      <td>百个</td>\n      <td>27.35</td>\n      <td>2</td>\n      <td>54.70</td>\n      <td>6401-1-3421-2-1-1</td>\n      <td>D1修</td>\n      <td>54.70</td>\n    </tr>\n    <tr>\n      <th>2</th>\n      <td>2</td>\n      <td>2022.8.3</td>\n      <td>检修组</td>\n      <td>14090000389</td>\n      <td>螺栓松动剂</td>\n      <td>250ml</td>\n      <td>瓶</td>\n      <td>11.50</td>\n      <td>2</td>\n      <td>23.00</td>\n      <td>6401-1-3421-2-1-1</td>\n      <td>D1修</td>\n      <td>23.00</td>\n    </tr>\n    <tr>\n      <th>3</th>\n      <td>3</td>\n      <td>2022.8.4</td>\n      <td>乘务队</td>\n      <td>9.551E+11</td>\n      <td>电茶炉胶垫</td>\n      <td>190×170 10孔</td>\n      <td>个</td>\n      <td>48.39</td>\n      <td>2</td>\n      <td>96.78</td>\n      <td>6401-1-3421-2-1-1</td>\n      <td>D1修</td>\n      <td>96.78</td>\n    </tr>\n    <tr>\n      <th>4</th>\n      <td>4</td>\n      <td>2022.8.5</td>\n      <td>检修组</td>\n      <td>5.2081E+11</td>\n      <td>硒鼓（88A）</td>\n      <td>HP 88A</td>\n      <td>个</td>\n      <td>110.73</td>\n      <td>2</td>\n      <td>221.46</td>\n      <td>6401-1-3615-1-1-1</td>\n      <td>微机耗材</td>\n      <td>221.46</td>\n    </tr>\n    <tr>\n      <th>5</th>\n      <td>5</td>\n      <td>2022.8.6</td>\n      <td>综合组</td>\n      <td>5.2081E+11</td>\n      <td>硒鼓（230A）</td>\n      <td>HP CF230A</td>\n      <td>支</td>\n      <td>59.86</td>\n      <td>2</td>\n      <td>119.72</td>\n      <td>6401-1-3615-1-1-1</td>\n      <td>微机耗材</td>\n      <td>119.72</td>\n    </tr>\n    <tr>\n      <th>6</th>\n      <td>6</td>\n      <td>2022.8.7</td>\n      <td>乘务队</td>\n      <td>17400072020</td>\n      <td>复印纸(A3)</td>\n      <td>A3 定量70g/㎡ 宽297×长420mm 2000张/箱</td>\n      <td>箱</td>\n      <td>194.25</td>\n      <td>2</td>\n      <td>388.50</td>\n      <td>6401-1-3615-1-1-1</td>\n      <td>微机耗材</td>\n      <td>388.50</td>\n    </tr>\n    <tr>\n      <th>7</th>\n      <td>7</td>\n      <td>2022.8.8</td>\n      <td>综合组</td>\n      <td>E21004002674</td>\n      <td>地板刷</td>\n      <td>规格型号:2寸+3.5寸+4寸+5寸实心+5寸空心;</td>\n      <td>个</td>\n      <td>50.27</td>\n      <td>2</td>\n      <td>100.54</td>\n      <td>6401-1-3421-2-1-1</td>\n      <td>D1修</td>\n      <td>100.54</td>\n    </tr>\n    <tr>\n      <th>8</th>\n      <td>8</td>\n      <td>2022.8.9</td>\n      <td>综合组</td>\n      <td>J03003000515</td>\n      <td>百洁布</td>\n      <td>规格型号:普通款;</td>\n      <td>个</td>\n      <td>2.48</td>\n      <td>2</td>\n      <td>4.96</td>\n      <td>6401-1-3421-2-1-1</td>\n      <td>D1修</td>\n      <td>4.96</td>\n    </tr>\n    <tr>\n      <th>9</th>\n      <td>9</td>\n      <td>2022.8.10</td>\n      <td>综合组</td>\n      <td>18840005400</td>\n      <td>中性笔</td>\n      <td>晨光GP1008 0.5mm 黑色 12支/盒</td>\n      <td>盒</td>\n      <td>16.19</td>\n      <td>2</td>\n      <td>32.38</td>\n      <td>6401-1-3610-1-2</td>\n      <td>纸张表格、文具等办公用品</td>\n      <td>32.38</td>\n    </tr>\n    <tr>\n      <th>10</th>\n      <td>10</td>\n      <td>2022.8.11</td>\n      <td>检修组</td>\n      <td>2.551E+11</td>\n      <td>弹簧垫圈（4mm）</td>\n      <td>4mm 不锈钢</td>\n      <td>百个</td>\n      <td>4.00</td>\n      <td>15</td>\n      <td>60.00</td>\n      <td>6401-1-3421-2-1-1</td>\n      <td>D1修</td>\n      <td>60.00</td>\n    </tr>\n    <tr>\n      <th>11</th>\n      <td>0</td>\n      <td>2022.9.1</td>\n      <td>乘务组</td>\n      <td>2.129E+11</td>\n      <td>电动三轮车</td>\n      <td>1.2m×0.9m 电机48V</td>\n      <td>辆</td>\n      <td>4417.70</td>\n      <td>1</td>\n      <td>4417.70</td>\n      <td>6401-1-3421-2-1-1</td>\n      <td>D1修</td>\n      <td>4417.70</td>\n    </tr>\n    <tr>\n      <th>13</th>\n      <td>2</td>\n      <td>2022.8.3</td>\n      <td>检修组</td>\n      <td>14090000389</td>\n      <td>螺栓松动剂</td>\n      <td>250ml</td>\n      <td>瓶</td>\n      <td>11.50</td>\n      <td>2</td>\n      <td>23.00</td>\n      <td>6401-1-3421-2-1-1</td>\n      <td>D1修</td>\n      <td>23.00</td>\n    </tr>\n  </tbody>\n</table>\n</div>"
     },
     "execution_count": 10,
     "metadata": {},
     "output_type": "execute_result"
    }
   ],
   "source": [
    "## 添加行\n",
    "\n",
    "print(df.shape)\n",
    "df.loc[len(df)+1] = df.iloc[2]\n",
    "print(df.shape)\n",
    "df"
   ],
   "metadata": {
    "collapsed": false,
    "pycharm": {
     "name": "#%%\n"
    }
   }
  },
  {
   "cell_type": "code",
   "execution_count": 11,
   "outputs": [
    {
     "data": {
      "text/plain": "  序号 辅助列 物资编码 物资名称 规格型号/图号/材质 计量单位 单价（元） 科目编号 科目名称\n0  1   2    3    3          1   11    12    3   12",
      "text/html": "<div>\n<style scoped>\n    .dataframe tbody tr th:only-of-type {\n        vertical-align: middle;\n    }\n\n    .dataframe tbody tr th {\n        vertical-align: top;\n    }\n\n    .dataframe thead th {\n        text-align: right;\n    }\n</style>\n<table border=\"1\" class=\"dataframe\">\n  <thead>\n    <tr style=\"text-align: right;\">\n      <th></th>\n      <th>序号</th>\n      <th>辅助列</th>\n      <th>物资编码</th>\n      <th>物资名称</th>\n      <th>规格型号/图号/材质</th>\n      <th>计量单位</th>\n      <th>单价（元）</th>\n      <th>科目编号</th>\n      <th>科目名称</th>\n    </tr>\n  </thead>\n  <tbody>\n    <tr>\n      <th>0</th>\n      <td>1</td>\n      <td>2</td>\n      <td>3</td>\n      <td>3</td>\n      <td>1</td>\n      <td>11</td>\n      <td>12</td>\n      <td>3</td>\n      <td>12</td>\n    </tr>\n  </tbody>\n</table>\n</div>"
     },
     "execution_count": 11,
     "metadata": {},
     "output_type": "execute_result"
    }
   ],
   "source": [
    "df1 = pd.read_csv('./resource.csv', encoding='gbk')\n",
    "df2 = pd.read_csv('./add.csv', encoding='utf8')\n",
    "df_list = [df1, df2]\n",
    "df = pd.concat(df_list)\n",
    "\n",
    "\n",
    "\n",
    "dic = {'序号': ['1'], '辅助列': ['2'], '物资编码': ['3'], '物资名称': ['3'], '规格型号/图号/材质': ['1'], '计量单位': ['11'], '单价（元）': ['12'], '科目编号': ['3'], '科目名称': ['12']}\n",
    "\n",
    "dic = pd.DataFrame.from_dict(dic)\n",
    "dic"
   ],
   "metadata": {
    "collapsed": false,
    "pycharm": {
     "name": "#%%\n"
    }
   }
  },
  {
   "cell_type": "code",
   "execution_count": 12,
   "outputs": [
    {
     "data": {
      "text/plain": "物资编码                  object\n物资名称                  object\n规格型号/图号/材质            object\n计量单位                  object\n单价（元）                float64\n科目编号                  object\n科目名称                  object\n201                  float64\n11                   float64\n15590150000           object\n橡胶万向轮                 object\n50mm                  object\n个                     object\n75                   float64\n6401-1-3421-2-1-1     object\nD1修                   object\ndtype: object"
     },
     "execution_count": 12,
     "metadata": {},
     "output_type": "execute_result"
    }
   ],
   "source": [
    "df = df.head()\n",
    "rows = df.shape[0]\n",
    "df.dtypes\n",
    "# [df[x].dtypes(0)  for x in df.keys()]\n",
    "# df.loc[len(df.index) ] = [0 for x in df.keys()]\n",
    "# for i in df.keys():\n",
    "    # print(df.iloc[rows-1])\n",
    "    # print(df[i])"
   ],
   "metadata": {
    "collapsed": false,
    "pycharm": {
     "name": "#%%\n"
    }
   }
  },
  {
   "cell_type": "code",
   "execution_count": 12,
   "outputs": [],
   "source": [],
   "metadata": {
    "collapsed": false,
    "pycharm": {
     "name": "#%%\n"
    }
   }
  },
  {
   "cell_type": "code",
   "execution_count": 13,
   "outputs": [
    {
     "data": {
      "text/plain": "    Unnamed: 0         日期   班组          物资编码       物资名称  \\\n7            7   2022.8.8  综合组  E21004002674        地板刷   \n8            8   2022.8.9  综合组  J03003000515        百洁布   \n9            9  2022.8.10  综合组   18840005400        中性笔   \n10          10  2022.8.11  检修组     2.551E+11  弹簧垫圈（4mm）   \n11           0   2022.9.1  乘务组     2.129E+11      电动三轮车   \n\n                    规格型号/图号/材质 计量单位    单价（元）  数量       金额               科目编号  \\\n7   规格型号:2寸+3.5寸+4寸+5寸实心+5寸空心;    个    50.27   2   100.54  6401-1-3421-2-1-1   \n8                    规格型号:普通款;    个     2.48   2     4.96  6401-1-3421-2-1-1   \n9      晨光GP1008 0.5mm 黑色 12支/盒    盒    16.19   2    32.38    6401-1-3610-1-2   \n10                     4mm 不锈钢   百个     4.00  15    60.00  6401-1-3421-2-1-1   \n11             1.2m×0.9m 电机48V    辆  4417.70   1  4417.70  6401-1-3421-2-1-1   \n\n            科目名称  \n7            D1修  \n8            D1修  \n9   纸张表格、文具等办公用品  \n10           D1修  \n11           D1修  ",
      "text/html": "<div>\n<style scoped>\n    .dataframe tbody tr th:only-of-type {\n        vertical-align: middle;\n    }\n\n    .dataframe tbody tr th {\n        vertical-align: top;\n    }\n\n    .dataframe thead th {\n        text-align: right;\n    }\n</style>\n<table border=\"1\" class=\"dataframe\">\n  <thead>\n    <tr style=\"text-align: right;\">\n      <th></th>\n      <th>Unnamed: 0</th>\n      <th>日期</th>\n      <th>班组</th>\n      <th>物资编码</th>\n      <th>物资名称</th>\n      <th>规格型号/图号/材质</th>\n      <th>计量单位</th>\n      <th>单价（元）</th>\n      <th>数量</th>\n      <th>金额</th>\n      <th>科目编号</th>\n      <th>科目名称</th>\n    </tr>\n  </thead>\n  <tbody>\n    <tr>\n      <th>7</th>\n      <td>7</td>\n      <td>2022.8.8</td>\n      <td>综合组</td>\n      <td>E21004002674</td>\n      <td>地板刷</td>\n      <td>规格型号:2寸+3.5寸+4寸+5寸实心+5寸空心;</td>\n      <td>个</td>\n      <td>50.27</td>\n      <td>2</td>\n      <td>100.54</td>\n      <td>6401-1-3421-2-1-1</td>\n      <td>D1修</td>\n    </tr>\n    <tr>\n      <th>8</th>\n      <td>8</td>\n      <td>2022.8.9</td>\n      <td>综合组</td>\n      <td>J03003000515</td>\n      <td>百洁布</td>\n      <td>规格型号:普通款;</td>\n      <td>个</td>\n      <td>2.48</td>\n      <td>2</td>\n      <td>4.96</td>\n      <td>6401-1-3421-2-1-1</td>\n      <td>D1修</td>\n    </tr>\n    <tr>\n      <th>9</th>\n      <td>9</td>\n      <td>2022.8.10</td>\n      <td>综合组</td>\n      <td>18840005400</td>\n      <td>中性笔</td>\n      <td>晨光GP1008 0.5mm 黑色 12支/盒</td>\n      <td>盒</td>\n      <td>16.19</td>\n      <td>2</td>\n      <td>32.38</td>\n      <td>6401-1-3610-1-2</td>\n      <td>纸张表格、文具等办公用品</td>\n    </tr>\n    <tr>\n      <th>10</th>\n      <td>10</td>\n      <td>2022.8.11</td>\n      <td>检修组</td>\n      <td>2.551E+11</td>\n      <td>弹簧垫圈（4mm）</td>\n      <td>4mm 不锈钢</td>\n      <td>百个</td>\n      <td>4.00</td>\n      <td>15</td>\n      <td>60.00</td>\n      <td>6401-1-3421-2-1-1</td>\n      <td>D1修</td>\n    </tr>\n    <tr>\n      <th>11</th>\n      <td>0</td>\n      <td>2022.9.1</td>\n      <td>乘务组</td>\n      <td>2.129E+11</td>\n      <td>电动三轮车</td>\n      <td>1.2m×0.9m 电机48V</td>\n      <td>辆</td>\n      <td>4417.70</td>\n      <td>1</td>\n      <td>4417.70</td>\n      <td>6401-1-3421-2-1-1</td>\n      <td>D1修</td>\n    </tr>\n  </tbody>\n</table>\n</div>"
     },
     "execution_count": 13,
     "metadata": {},
     "output_type": "execute_result"
    }
   ],
   "source": [
    "full = pd.read_csv('./full.csv', encoding='gbk')\n",
    "full.tail()"
   ],
   "metadata": {
    "collapsed": false,
    "pycharm": {
     "name": "#%%\n"
    }
   }
  },
  {
   "cell_type": "code",
   "execution_count": 14,
   "outputs": [
    {
     "data": {
      "text/plain": "     班组  D1修总成本  D1修成本消耗  D1修成本消耗比例  纸张表格、文具等办公用品总成本  纸张表格、文具等办公用品成本消耗  \\\n0   检修组      37        0          0               14              0.00   \n1   综合组     180        0          0               50             32.38   \n2   乘务队       5        0          0                3              0.00   \n3  车间成本     222        0          0               67             32.38   \n\n   纸张表格、文具等办公用品成本消耗比例  微机耗材总成本  微机耗材成本消耗  微机耗材成本消耗比例  \n0            0.000000      230    221.46    0.962870  \n1            0.647600       14    119.72    8.551429  \n2            0.000000       15    388.50   25.900000  \n3            0.483284      259    729.68    2.817297  ",
      "text/html": "<div>\n<style scoped>\n    .dataframe tbody tr th:only-of-type {\n        vertical-align: middle;\n    }\n\n    .dataframe tbody tr th {\n        vertical-align: top;\n    }\n\n    .dataframe thead th {\n        text-align: right;\n    }\n</style>\n<table border=\"1\" class=\"dataframe\">\n  <thead>\n    <tr style=\"text-align: right;\">\n      <th></th>\n      <th>班组</th>\n      <th>D1修总成本</th>\n      <th>D1修成本消耗</th>\n      <th>D1修成本消耗比例</th>\n      <th>纸张表格、文具等办公用品总成本</th>\n      <th>纸张表格、文具等办公用品成本消耗</th>\n      <th>纸张表格、文具等办公用品成本消耗比例</th>\n      <th>微机耗材总成本</th>\n      <th>微机耗材成本消耗</th>\n      <th>微机耗材成本消耗比例</th>\n    </tr>\n  </thead>\n  <tbody>\n    <tr>\n      <th>0</th>\n      <td>检修组</td>\n      <td>37</td>\n      <td>0</td>\n      <td>0</td>\n      <td>14</td>\n      <td>0.00</td>\n      <td>0.000000</td>\n      <td>230</td>\n      <td>221.46</td>\n      <td>0.962870</td>\n    </tr>\n    <tr>\n      <th>1</th>\n      <td>综合组</td>\n      <td>180</td>\n      <td>0</td>\n      <td>0</td>\n      <td>50</td>\n      <td>32.38</td>\n      <td>0.647600</td>\n      <td>14</td>\n      <td>119.72</td>\n      <td>8.551429</td>\n    </tr>\n    <tr>\n      <th>2</th>\n      <td>乘务队</td>\n      <td>5</td>\n      <td>0</td>\n      <td>0</td>\n      <td>3</td>\n      <td>0.00</td>\n      <td>0.000000</td>\n      <td>15</td>\n      <td>388.50</td>\n      <td>25.900000</td>\n    </tr>\n    <tr>\n      <th>3</th>\n      <td>车间成本</td>\n      <td>222</td>\n      <td>0</td>\n      <td>0</td>\n      <td>67</td>\n      <td>32.38</td>\n      <td>0.483284</td>\n      <td>259</td>\n      <td>729.68</td>\n      <td>2.817297</td>\n    </tr>\n  </tbody>\n</table>\n</div>"
     },
     "execution_count": 14,
     "metadata": {},
     "output_type": "execute_result"
    }
   ],
   "source": [
    "total = pd.read_csv('./total.csv', encoding='gbk')\n",
    "total"
   ],
   "metadata": {
    "collapsed": false,
    "pycharm": {
     "name": "#%%\n"
    }
   }
  },
  {
   "cell_type": "code",
   "execution_count": 15,
   "outputs": [
    {
     "name": "stdout",
     "output_type": "stream",
     "text": [
      "0 D1修 87.0\n",
      "0 微机耗材 221.46\n",
      "0 纸张表格、文具等办公用品 0.0\n",
      "1 D1修 160.20000000000002\n",
      "1 微机耗材 119.72\n",
      "1 纸张表格、文具等办公用品 32.38\n",
      "2 D1修 96.78\n",
      "2 微机耗材 388.5\n",
      "2 纸张表格、文具等办公用品 0.0\n",
      "3 D1修 0.0\n",
      "3 微机耗材 0.0\n",
      "3 纸张表格、文具等办公用品 0.0\n"
     ]
    }
   ],
   "source": [
    "\n",
    "cate = full['科目名称'].unique()\n",
    "\n",
    "for i in range(total.shape[0]):\n",
    "    # print(i)\n",
    "    for j in cate:\n",
    "        name = total.at[i, '班组']\n",
    "        # print(j)\n",
    "        # print(full['班组'] == name )\n",
    "        # print(full['科目名称'] == j)\n",
    "        money =  full[(full['班组'] == name) & (full['科目名称'] == j)]['金额'].sum()\n",
    "        print(i, j ,money)\n",
    "        # total[(total['班组'] == name) ][j+'成本消耗'] = money\n",
    "\n",
    "        total.at[i, j+'成本消耗'] = money\n",
    "for i in total.keys():\n",
    "    if '成本' in i :\n",
    "        total.at[total.shape[0]-1, i] = total[i].sum()\n"
   ],
   "metadata": {
    "collapsed": false,
    "pycharm": {
     "name": "#%%\n"
    }
   }
  },
  {
   "cell_type": "code",
   "execution_count": 16,
   "outputs": [
    {
     "data": {
      "text/plain": "     班组  D1修总成本  D1修成本消耗  D1修成本消耗比例  纸张表格、文具等办公用品总成本  纸张表格、文具等办公用品成本消耗  \\\n0   检修组      37       87   2.351351               14              0.00   \n1   综合组     180      160   0.888889               50             32.38   \n2   乘务队       5       96  19.200000                3              0.00   \n3  车间成本     444      343   0.772523              134             32.38   \n\n   纸张表格、文具等办公用品成本消耗比例  微机耗材总成本  微机耗材成本消耗  微机耗材成本消耗比例  \n0            0.000000      230    221.46    0.962870  \n1            0.647600       14    119.72    8.551429  \n2            0.000000       15    388.50   25.900000  \n3            0.241642      518    729.68    1.408649  ",
      "text/html": "<div>\n<style scoped>\n    .dataframe tbody tr th:only-of-type {\n        vertical-align: middle;\n    }\n\n    .dataframe tbody tr th {\n        vertical-align: top;\n    }\n\n    .dataframe thead th {\n        text-align: right;\n    }\n</style>\n<table border=\"1\" class=\"dataframe\">\n  <thead>\n    <tr style=\"text-align: right;\">\n      <th></th>\n      <th>班组</th>\n      <th>D1修总成本</th>\n      <th>D1修成本消耗</th>\n      <th>D1修成本消耗比例</th>\n      <th>纸张表格、文具等办公用品总成本</th>\n      <th>纸张表格、文具等办公用品成本消耗</th>\n      <th>纸张表格、文具等办公用品成本消耗比例</th>\n      <th>微机耗材总成本</th>\n      <th>微机耗材成本消耗</th>\n      <th>微机耗材成本消耗比例</th>\n    </tr>\n  </thead>\n  <tbody>\n    <tr>\n      <th>0</th>\n      <td>检修组</td>\n      <td>37</td>\n      <td>87</td>\n      <td>2.351351</td>\n      <td>14</td>\n      <td>0.00</td>\n      <td>0.000000</td>\n      <td>230</td>\n      <td>221.46</td>\n      <td>0.962870</td>\n    </tr>\n    <tr>\n      <th>1</th>\n      <td>综合组</td>\n      <td>180</td>\n      <td>160</td>\n      <td>0.888889</td>\n      <td>50</td>\n      <td>32.38</td>\n      <td>0.647600</td>\n      <td>14</td>\n      <td>119.72</td>\n      <td>8.551429</td>\n    </tr>\n    <tr>\n      <th>2</th>\n      <td>乘务队</td>\n      <td>5</td>\n      <td>96</td>\n      <td>19.200000</td>\n      <td>3</td>\n      <td>0.00</td>\n      <td>0.000000</td>\n      <td>15</td>\n      <td>388.50</td>\n      <td>25.900000</td>\n    </tr>\n    <tr>\n      <th>3</th>\n      <td>车间成本</td>\n      <td>444</td>\n      <td>343</td>\n      <td>0.772523</td>\n      <td>134</td>\n      <td>32.38</td>\n      <td>0.241642</td>\n      <td>518</td>\n      <td>729.68</td>\n      <td>1.408649</td>\n    </tr>\n  </tbody>\n</table>\n</div>"
     },
     "execution_count": 16,
     "metadata": {},
     "output_type": "execute_result"
    }
   ],
   "source": [
    "for i in cate:\n",
    "    source = i +'总成本'\n",
    "    cost = i +'成本消耗'\n",
    "    rate = i+'成本消耗比例'\n",
    "    total[rate ]= total[cost] / total[source]\n",
    "total"
   ],
   "metadata": {
    "collapsed": false,
    "pycharm": {
     "name": "#%%\n"
    }
   }
  },
  {
   "cell_type": "code",
   "execution_count": 17,
   "outputs": [
    {
     "data": {
      "text/plain": "     班组  D1修总成本  D1修成本消耗  D1修成本消耗比例  纸张表格、文具等办公用品总成本  纸张表格、文具等办公用品成本消耗  \\\n0   检修组      37       87   2.351351               14              0.00   \n1   综合组     180      160   0.888889               50             32.38   \n2   乘务队       5       96  19.200000                3              0.00   \n3  车间成本     444      343   0.772523              134             32.38   \n\n   纸张表格、文具等办公用品成本消耗比例  微机耗材总成本  微机耗材成本消耗  微机耗材成本消耗比例  \n0            0.000000      230    221.46    0.962870  \n1            0.647600       14    119.72    8.551429  \n2            0.000000       15    388.50   25.900000  \n3            0.241642      518    729.68    1.408649  ",
      "text/html": "<div>\n<style scoped>\n    .dataframe tbody tr th:only-of-type {\n        vertical-align: middle;\n    }\n\n    .dataframe tbody tr th {\n        vertical-align: top;\n    }\n\n    .dataframe thead th {\n        text-align: right;\n    }\n</style>\n<table border=\"1\" class=\"dataframe\">\n  <thead>\n    <tr style=\"text-align: right;\">\n      <th></th>\n      <th>班组</th>\n      <th>D1修总成本</th>\n      <th>D1修成本消耗</th>\n      <th>D1修成本消耗比例</th>\n      <th>纸张表格、文具等办公用品总成本</th>\n      <th>纸张表格、文具等办公用品成本消耗</th>\n      <th>纸张表格、文具等办公用品成本消耗比例</th>\n      <th>微机耗材总成本</th>\n      <th>微机耗材成本消耗</th>\n      <th>微机耗材成本消耗比例</th>\n    </tr>\n  </thead>\n  <tbody>\n    <tr>\n      <th>0</th>\n      <td>检修组</td>\n      <td>37</td>\n      <td>87</td>\n      <td>2.351351</td>\n      <td>14</td>\n      <td>0.00</td>\n      <td>0.000000</td>\n      <td>230</td>\n      <td>221.46</td>\n      <td>0.962870</td>\n    </tr>\n    <tr>\n      <th>1</th>\n      <td>综合组</td>\n      <td>180</td>\n      <td>160</td>\n      <td>0.888889</td>\n      <td>50</td>\n      <td>32.38</td>\n      <td>0.647600</td>\n      <td>14</td>\n      <td>119.72</td>\n      <td>8.551429</td>\n    </tr>\n    <tr>\n      <th>2</th>\n      <td>乘务队</td>\n      <td>5</td>\n      <td>96</td>\n      <td>19.200000</td>\n      <td>3</td>\n      <td>0.00</td>\n      <td>0.000000</td>\n      <td>15</td>\n      <td>388.50</td>\n      <td>25.900000</td>\n    </tr>\n    <tr>\n      <th>3</th>\n      <td>车间成本</td>\n      <td>444</td>\n      <td>343</td>\n      <td>0.772523</td>\n      <td>134</td>\n      <td>32.38</td>\n      <td>0.241642</td>\n      <td>518</td>\n      <td>729.68</td>\n      <td>1.408649</td>\n    </tr>\n  </tbody>\n</table>\n</div>"
     },
     "execution_count": 17,
     "metadata": {},
     "output_type": "execute_result"
    }
   ],
   "source": [
    "\n",
    "total"
   ],
   "metadata": {
    "collapsed": false,
    "pycharm": {
     "name": "#%%\n"
    }
   }
  },
  {
   "cell_type": "code",
   "execution_count": 35,
   "outputs": [
    {
     "data": {
      "text/plain": "    Unnamed: 0         日期   班组          物资编码       物资名称  \\\n0            0   2022.8.1  检修组     2.551E+11  弹簧垫圈（4mm）   \n1            1   2022.8.2  综合组       2.5E+11   六角头螺栓-C级   \n2            2   2022.8.3  检修组   14090000389      螺栓松动剂   \n3            3   2022.8.4  乘务队     9.551E+11      电茶炉胶垫   \n4            4   2022.8.5  检修组    5.2081E+11    硒鼓（88A）   \n5            5   2022.8.6  综合组    5.2081E+11   硒鼓（230A）   \n6            6   2022.8.7  乘务队   17400072020    复印纸(A3)   \n7            7   2022.8.8  综合组  E21004002674        地板刷   \n8            8   2022.8.9  综合组  J03003000515        百洁布   \n9            9  2022.8.10  综合组   18840005400        中性笔   \n10          10  2022.8.11  检修组     2.551E+11  弹簧垫圈（4mm）   \n11           0   2022.9.1  乘务组     2.129E+11      电动三轮车   \n\n                        规格型号/图号/材质 计量单位    单价（元）  数量       金额  \\\n0                          4mm 不锈钢   百个     4.00   1     4.00   \n1                   M10×30mm 4.8 钢   百个    27.35   2    54.70   \n2                            250ml    瓶    11.50   2    23.00   \n3                      190×170 10孔    个    48.39   2    96.78   \n4                           HP 88A    个   110.73   2   221.46   \n5                        HP CF230A    支    59.86   2   119.72   \n6   A3 定量70g/㎡ 宽297×长420mm 2000张/箱    箱   194.25   2   388.50   \n7       规格型号:2寸+3.5寸+4寸+5寸实心+5寸空心;    个    50.27   2   100.54   \n8                        规格型号:普通款;    个     2.48   2     4.96   \n9          晨光GP1008 0.5mm 黑色 12支/盒    盒    16.19   2    32.38   \n10                         4mm 不锈钢   百个     4.00  15    60.00   \n11                 1.2m×0.9m 电机48V    辆  4417.70   1  4417.70   \n\n                 科目编号          科目名称  \n0   6401-1-3421-2-1-1           D1修  \n1   6401-1-3421-2-1-1           D1修  \n2   6401-1-3421-2-1-1           D1修  \n3   6401-1-3421-2-1-1           D1修  \n4   6401-1-3615-1-1-1          微机耗材  \n5   6401-1-3615-1-1-1          微机耗材  \n6   6401-1-3615-1-1-1          微机耗材  \n7   6401-1-3421-2-1-1           D1修  \n8   6401-1-3421-2-1-1           D1修  \n9     6401-1-3610-1-2  纸张表格、文具等办公用品  \n10  6401-1-3421-2-1-1           D1修  \n11  6401-1-3421-2-1-1           D1修  ",
      "text/html": "<div>\n<style scoped>\n    .dataframe tbody tr th:only-of-type {\n        vertical-align: middle;\n    }\n\n    .dataframe tbody tr th {\n        vertical-align: top;\n    }\n\n    .dataframe thead th {\n        text-align: right;\n    }\n</style>\n<table border=\"1\" class=\"dataframe\">\n  <thead>\n    <tr style=\"text-align: right;\">\n      <th></th>\n      <th>Unnamed: 0</th>\n      <th>日期</th>\n      <th>班组</th>\n      <th>物资编码</th>\n      <th>物资名称</th>\n      <th>规格型号/图号/材质</th>\n      <th>计量单位</th>\n      <th>单价（元）</th>\n      <th>数量</th>\n      <th>金额</th>\n      <th>科目编号</th>\n      <th>科目名称</th>\n    </tr>\n  </thead>\n  <tbody>\n    <tr>\n      <th>0</th>\n      <td>0</td>\n      <td>2022.8.1</td>\n      <td>检修组</td>\n      <td>2.551E+11</td>\n      <td>弹簧垫圈（4mm）</td>\n      <td>4mm 不锈钢</td>\n      <td>百个</td>\n      <td>4.00</td>\n      <td>1</td>\n      <td>4.00</td>\n      <td>6401-1-3421-2-1-1</td>\n      <td>D1修</td>\n    </tr>\n    <tr>\n      <th>1</th>\n      <td>1</td>\n      <td>2022.8.2</td>\n      <td>综合组</td>\n      <td>2.5E+11</td>\n      <td>六角头螺栓-C级</td>\n      <td>M10×30mm 4.8 钢</td>\n      <td>百个</td>\n      <td>27.35</td>\n      <td>2</td>\n      <td>54.70</td>\n      <td>6401-1-3421-2-1-1</td>\n      <td>D1修</td>\n    </tr>\n    <tr>\n      <th>2</th>\n      <td>2</td>\n      <td>2022.8.3</td>\n      <td>检修组</td>\n      <td>14090000389</td>\n      <td>螺栓松动剂</td>\n      <td>250ml</td>\n      <td>瓶</td>\n      <td>11.50</td>\n      <td>2</td>\n      <td>23.00</td>\n      <td>6401-1-3421-2-1-1</td>\n      <td>D1修</td>\n    </tr>\n    <tr>\n      <th>3</th>\n      <td>3</td>\n      <td>2022.8.4</td>\n      <td>乘务队</td>\n      <td>9.551E+11</td>\n      <td>电茶炉胶垫</td>\n      <td>190×170 10孔</td>\n      <td>个</td>\n      <td>48.39</td>\n      <td>2</td>\n      <td>96.78</td>\n      <td>6401-1-3421-2-1-1</td>\n      <td>D1修</td>\n    </tr>\n    <tr>\n      <th>4</th>\n      <td>4</td>\n      <td>2022.8.5</td>\n      <td>检修组</td>\n      <td>5.2081E+11</td>\n      <td>硒鼓（88A）</td>\n      <td>HP 88A</td>\n      <td>个</td>\n      <td>110.73</td>\n      <td>2</td>\n      <td>221.46</td>\n      <td>6401-1-3615-1-1-1</td>\n      <td>微机耗材</td>\n    </tr>\n    <tr>\n      <th>5</th>\n      <td>5</td>\n      <td>2022.8.6</td>\n      <td>综合组</td>\n      <td>5.2081E+11</td>\n      <td>硒鼓（230A）</td>\n      <td>HP CF230A</td>\n      <td>支</td>\n      <td>59.86</td>\n      <td>2</td>\n      <td>119.72</td>\n      <td>6401-1-3615-1-1-1</td>\n      <td>微机耗材</td>\n    </tr>\n    <tr>\n      <th>6</th>\n      <td>6</td>\n      <td>2022.8.7</td>\n      <td>乘务队</td>\n      <td>17400072020</td>\n      <td>复印纸(A3)</td>\n      <td>A3 定量70g/㎡ 宽297×长420mm 2000张/箱</td>\n      <td>箱</td>\n      <td>194.25</td>\n      <td>2</td>\n      <td>388.50</td>\n      <td>6401-1-3615-1-1-1</td>\n      <td>微机耗材</td>\n    </tr>\n    <tr>\n      <th>7</th>\n      <td>7</td>\n      <td>2022.8.8</td>\n      <td>综合组</td>\n      <td>E21004002674</td>\n      <td>地板刷</td>\n      <td>规格型号:2寸+3.5寸+4寸+5寸实心+5寸空心;</td>\n      <td>个</td>\n      <td>50.27</td>\n      <td>2</td>\n      <td>100.54</td>\n      <td>6401-1-3421-2-1-1</td>\n      <td>D1修</td>\n    </tr>\n    <tr>\n      <th>8</th>\n      <td>8</td>\n      <td>2022.8.9</td>\n      <td>综合组</td>\n      <td>J03003000515</td>\n      <td>百洁布</td>\n      <td>规格型号:普通款;</td>\n      <td>个</td>\n      <td>2.48</td>\n      <td>2</td>\n      <td>4.96</td>\n      <td>6401-1-3421-2-1-1</td>\n      <td>D1修</td>\n    </tr>\n    <tr>\n      <th>9</th>\n      <td>9</td>\n      <td>2022.8.10</td>\n      <td>综合组</td>\n      <td>18840005400</td>\n      <td>中性笔</td>\n      <td>晨光GP1008 0.5mm 黑色 12支/盒</td>\n      <td>盒</td>\n      <td>16.19</td>\n      <td>2</td>\n      <td>32.38</td>\n      <td>6401-1-3610-1-2</td>\n      <td>纸张表格、文具等办公用品</td>\n    </tr>\n    <tr>\n      <th>10</th>\n      <td>10</td>\n      <td>2022.8.11</td>\n      <td>检修组</td>\n      <td>2.551E+11</td>\n      <td>弹簧垫圈（4mm）</td>\n      <td>4mm 不锈钢</td>\n      <td>百个</td>\n      <td>4.00</td>\n      <td>15</td>\n      <td>60.00</td>\n      <td>6401-1-3421-2-1-1</td>\n      <td>D1修</td>\n    </tr>\n    <tr>\n      <th>11</th>\n      <td>0</td>\n      <td>2022.9.1</td>\n      <td>乘务组</td>\n      <td>2.129E+11</td>\n      <td>电动三轮车</td>\n      <td>1.2m×0.9m 电机48V</td>\n      <td>辆</td>\n      <td>4417.70</td>\n      <td>1</td>\n      <td>4417.70</td>\n      <td>6401-1-3421-2-1-1</td>\n      <td>D1修</td>\n    </tr>\n  </tbody>\n</table>\n</div>"
     },
     "execution_count": 35,
     "metadata": {},
     "output_type": "execute_result"
    }
   ],
   "source": [
    "resource = pd.read_csv('./resource.csv', encoding='gbk')\n",
    "resource\n",
    "key = '电茶炉胶垫'\n",
    "x = resource[resource['物资名称'] == key]\n",
    "z = x.set_index('物资名称').to_dict()\n",
    "ans = {}\n",
    "\n",
    "for i in z.keys():\n",
    "    # print(z[i])\n",
    "    if z[i] != {}:\n",
    "        ans[i ]= z[i][key]\n",
    "    else:\n",
    "        continue\n",
    "ans\n",
    "full"
   ],
   "metadata": {
    "collapsed": false,
    "pycharm": {
     "name": "#%%\n"
    }
   }
  },
  {
   "cell_type": "code",
   "execution_count": 34,
   "outputs": [
    {
     "data": {
      "text/plain": "    Unnamed: 0         日期   班组          物资编码       物资名称  \\\n0            0   2022.8.1  检修组     2.551E+11  弹簧垫圈（4mm）   \n1            1   2022.8.2  综合组       2.5E+11   六角头螺栓-C级   \n2            2   2022.8.3  检修组   14090000389      螺栓松动剂   \n3            3   2022.8.4  乘务队     9.551E+11      电茶炉胶垫   \n4            4   2022.8.5  检修组    5.2081E+11    硒鼓（88A）   \n5            5   2022.8.6  综合组    5.2081E+11   硒鼓（230A）   \n6            6   2022.8.7  乘务队   17400072020    复印纸(A3)   \n7            7   2022.8.8  综合组  E21004002674        地板刷   \n8            8   2022.8.9  综合组  J03003000515        百洁布   \n9            9  2022.8.10  综合组   18840005400        中性笔   \n10          10  2022.8.11  检修组     2.551E+11  弹簧垫圈（4mm）   \n11           0   2022.9.1  乘务组     2.129E+11      电动三轮车   \n\n                        规格型号/图号/材质 计量单位    单价（元）  数量       金额  \\\n0                          4mm 不锈钢   百个     4.00   1     4.00   \n1                   M10×30mm 4.8 钢   百个    27.35   2    54.70   \n2                            250ml    瓶    11.50   2    23.00   \n3                      190×170 10孔    个    48.39   2    96.78   \n4                           HP 88A    个   110.73   2   221.46   \n5                        HP CF230A    支    59.86   2   119.72   \n6   A3 定量70g/㎡ 宽297×长420mm 2000张/箱    箱   194.25   2   388.50   \n7       规格型号:2寸+3.5寸+4寸+5寸实心+5寸空心;    个    50.27   2   100.54   \n8                        规格型号:普通款;    个     2.48   2     4.96   \n9          晨光GP1008 0.5mm 黑色 12支/盒    盒    16.19   2    32.38   \n10                         4mm 不锈钢   百个     4.00  15    60.00   \n11                 1.2m×0.9m 电机48V    辆  4417.70   1  4417.70   \n\n                 科目编号          科目名称  \n0   6401-1-3421-2-1-1           D1修  \n1   6401-1-3421-2-1-1           D1修  \n2   6401-1-3421-2-1-1           D1修  \n3   6401-1-3421-2-1-1           D1修  \n4   6401-1-3615-1-1-1          微机耗材  \n5   6401-1-3615-1-1-1          微机耗材  \n6   6401-1-3615-1-1-1          微机耗材  \n7   6401-1-3421-2-1-1           D1修  \n8   6401-1-3421-2-1-1           D1修  \n9     6401-1-3610-1-2  纸张表格、文具等办公用品  \n10  6401-1-3421-2-1-1           D1修  \n11  6401-1-3421-2-1-1           D1修  ",
      "text/html": "<div>\n<style scoped>\n    .dataframe tbody tr th:only-of-type {\n        vertical-align: middle;\n    }\n\n    .dataframe tbody tr th {\n        vertical-align: top;\n    }\n\n    .dataframe thead th {\n        text-align: right;\n    }\n</style>\n<table border=\"1\" class=\"dataframe\">\n  <thead>\n    <tr style=\"text-align: right;\">\n      <th></th>\n      <th>Unnamed: 0</th>\n      <th>日期</th>\n      <th>班组</th>\n      <th>物资编码</th>\n      <th>物资名称</th>\n      <th>规格型号/图号/材质</th>\n      <th>计量单位</th>\n      <th>单价（元）</th>\n      <th>数量</th>\n      <th>金额</th>\n      <th>科目编号</th>\n      <th>科目名称</th>\n    </tr>\n  </thead>\n  <tbody>\n    <tr>\n      <th>0</th>\n      <td>0</td>\n      <td>2022.8.1</td>\n      <td>检修组</td>\n      <td>2.551E+11</td>\n      <td>弹簧垫圈（4mm）</td>\n      <td>4mm 不锈钢</td>\n      <td>百个</td>\n      <td>4.00</td>\n      <td>1</td>\n      <td>4.00</td>\n      <td>6401-1-3421-2-1-1</td>\n      <td>D1修</td>\n    </tr>\n    <tr>\n      <th>1</th>\n      <td>1</td>\n      <td>2022.8.2</td>\n      <td>综合组</td>\n      <td>2.5E+11</td>\n      <td>六角头螺栓-C级</td>\n      <td>M10×30mm 4.8 钢</td>\n      <td>百个</td>\n      <td>27.35</td>\n      <td>2</td>\n      <td>54.70</td>\n      <td>6401-1-3421-2-1-1</td>\n      <td>D1修</td>\n    </tr>\n    <tr>\n      <th>2</th>\n      <td>2</td>\n      <td>2022.8.3</td>\n      <td>检修组</td>\n      <td>14090000389</td>\n      <td>螺栓松动剂</td>\n      <td>250ml</td>\n      <td>瓶</td>\n      <td>11.50</td>\n      <td>2</td>\n      <td>23.00</td>\n      <td>6401-1-3421-2-1-1</td>\n      <td>D1修</td>\n    </tr>\n    <tr>\n      <th>3</th>\n      <td>3</td>\n      <td>2022.8.4</td>\n      <td>乘务队</td>\n      <td>9.551E+11</td>\n      <td>电茶炉胶垫</td>\n      <td>190×170 10孔</td>\n      <td>个</td>\n      <td>48.39</td>\n      <td>2</td>\n      <td>96.78</td>\n      <td>6401-1-3421-2-1-1</td>\n      <td>D1修</td>\n    </tr>\n    <tr>\n      <th>4</th>\n      <td>4</td>\n      <td>2022.8.5</td>\n      <td>检修组</td>\n      <td>5.2081E+11</td>\n      <td>硒鼓（88A）</td>\n      <td>HP 88A</td>\n      <td>个</td>\n      <td>110.73</td>\n      <td>2</td>\n      <td>221.46</td>\n      <td>6401-1-3615-1-1-1</td>\n      <td>微机耗材</td>\n    </tr>\n    <tr>\n      <th>5</th>\n      <td>5</td>\n      <td>2022.8.6</td>\n      <td>综合组</td>\n      <td>5.2081E+11</td>\n      <td>硒鼓（230A）</td>\n      <td>HP CF230A</td>\n      <td>支</td>\n      <td>59.86</td>\n      <td>2</td>\n      <td>119.72</td>\n      <td>6401-1-3615-1-1-1</td>\n      <td>微机耗材</td>\n    </tr>\n    <tr>\n      <th>6</th>\n      <td>6</td>\n      <td>2022.8.7</td>\n      <td>乘务队</td>\n      <td>17400072020</td>\n      <td>复印纸(A3)</td>\n      <td>A3 定量70g/㎡ 宽297×长420mm 2000张/箱</td>\n      <td>箱</td>\n      <td>194.25</td>\n      <td>2</td>\n      <td>388.50</td>\n      <td>6401-1-3615-1-1-1</td>\n      <td>微机耗材</td>\n    </tr>\n    <tr>\n      <th>7</th>\n      <td>7</td>\n      <td>2022.8.8</td>\n      <td>综合组</td>\n      <td>E21004002674</td>\n      <td>地板刷</td>\n      <td>规格型号:2寸+3.5寸+4寸+5寸实心+5寸空心;</td>\n      <td>个</td>\n      <td>50.27</td>\n      <td>2</td>\n      <td>100.54</td>\n      <td>6401-1-3421-2-1-1</td>\n      <td>D1修</td>\n    </tr>\n    <tr>\n      <th>8</th>\n      <td>8</td>\n      <td>2022.8.9</td>\n      <td>综合组</td>\n      <td>J03003000515</td>\n      <td>百洁布</td>\n      <td>规格型号:普通款;</td>\n      <td>个</td>\n      <td>2.48</td>\n      <td>2</td>\n      <td>4.96</td>\n      <td>6401-1-3421-2-1-1</td>\n      <td>D1修</td>\n    </tr>\n    <tr>\n      <th>9</th>\n      <td>9</td>\n      <td>2022.8.10</td>\n      <td>综合组</td>\n      <td>18840005400</td>\n      <td>中性笔</td>\n      <td>晨光GP1008 0.5mm 黑色 12支/盒</td>\n      <td>盒</td>\n      <td>16.19</td>\n      <td>2</td>\n      <td>32.38</td>\n      <td>6401-1-3610-1-2</td>\n      <td>纸张表格、文具等办公用品</td>\n    </tr>\n    <tr>\n      <th>10</th>\n      <td>10</td>\n      <td>2022.8.11</td>\n      <td>检修组</td>\n      <td>2.551E+11</td>\n      <td>弹簧垫圈（4mm）</td>\n      <td>4mm 不锈钢</td>\n      <td>百个</td>\n      <td>4.00</td>\n      <td>15</td>\n      <td>60.00</td>\n      <td>6401-1-3421-2-1-1</td>\n      <td>D1修</td>\n    </tr>\n    <tr>\n      <th>11</th>\n      <td>0</td>\n      <td>2022.9.1</td>\n      <td>乘务组</td>\n      <td>2.129E+11</td>\n      <td>电动三轮车</td>\n      <td>1.2m×0.9m 电机48V</td>\n      <td>辆</td>\n      <td>4417.70</td>\n      <td>1</td>\n      <td>4417.70</td>\n      <td>6401-1-3421-2-1-1</td>\n      <td>D1修</td>\n    </tr>\n  </tbody>\n</table>\n</div>"
     },
     "execution_count": 34,
     "metadata": {},
     "output_type": "execute_result"
    }
   ],
   "source": [
    "def change_type(df1:pd.DataFrame, df2 :dict):\n",
    "    # todo 为什么会增加unamed？\n",
    "    df2 = pd.DataFrame.from_dict(df2)\n",
    "    for i in df2.keys():\n",
    "        df2[i] =df2[i].astype(df1[i].dtypes)\n",
    "\n",
    "    add_list = [df1, df2]\n",
    "    df = pd.concat(add_list)\n",
    "    return df\n",
    "full"
   ],
   "metadata": {
    "collapsed": false,
    "pycharm": {
     "name": "#%%\n"
    }
   }
  },
  {
   "cell_type": "code",
   "execution_count": 53,
   "outputs": [
    {
     "name": "stdout",
     "output_type": "stream",
     "text": [
      "0      False\n",
      "1      False\n",
      "2       True\n",
      "3      False\n",
      "4       True\n",
      "       ...  \n",
      "277    False\n",
      "278    False\n",
      "279    False\n",
      "280    False\n",
      "281    False\n",
      "Name: 物资名称, Length: 282, dtype: bool\n",
      "         物资编码        物资名称 规格型号/图号/材质 计量单位  单价（元）               科目编号 科目名称\n",
      "2   2.551E+11   弹簧垫圈（4mm）    4mm 不锈钢   百个   4.00  6401-1-3421-2-1-1  D1修\n",
      "4   2.551E+11   弹簧垫圈（8mm）    8mm 不锈钢   百个   5.85  6401-1-3421-2-1-1  D1修\n",
      "13  2.551E+11   弹簧垫圈（6mm）    6mm 不锈钢   百个   5.20  6401-1-3421-2-1-1  D1修\n",
      "14  2.551E+11  弹簧垫圈（10mm）     10mm 钢   百个   3.53  6401-1-3421-2-1-1  D1修\n"
     ]
    },
    {
     "ename": "AttributeError",
     "evalue": "'str' object has no attribute 'set_index'",
     "output_type": "error",
     "traceback": [
      "\u001B[1;31m---------------------------------------------------------------------------\u001B[0m",
      "\u001B[1;31mAttributeError\u001B[0m                            Traceback (most recent call last)",
      "\u001B[1;32m<ipython-input-53-381b64a48fb0>\u001B[0m in \u001B[0;36m<module>\u001B[1;34m\u001B[0m\n\u001B[0;32m     25\u001B[0m         \u001B[0mprint\u001B[0m\u001B[1;33m(\u001B[0m\u001B[0mans_list\u001B[0m\u001B[1;33m)\u001B[0m\u001B[1;33m\u001B[0m\u001B[1;33m\u001B[0m\u001B[0m\n\u001B[0;32m     26\u001B[0m \u001B[1;33m\u001B[0m\u001B[0m\n\u001B[1;32m---> 27\u001B[1;33m \u001B[0msearch_name_in_resource\u001B[0m\u001B[1;33m(\u001B[0m\u001B[1;34m'弹簧'\u001B[0m\u001B[1;33m,\u001B[0m \u001B[0mresource\u001B[0m\u001B[1;33m)\u001B[0m\u001B[1;33m\u001B[0m\u001B[1;33m\u001B[0m\u001B[0m\n\u001B[0m",
      "\u001B[1;32m<ipython-input-53-381b64a48fb0>\u001B[0m in \u001B[0;36msearch_name_in_resource\u001B[1;34m(key, resource)\u001B[0m\n\u001B[0;32m      9\u001B[0m         \u001B[0mz\u001B[0m \u001B[1;33m=\u001B[0m \u001B[1;33m[\u001B[0m\u001B[1;33m]\u001B[0m\u001B[1;33m\u001B[0m\u001B[1;33m\u001B[0m\u001B[0m\n\u001B[0;32m     10\u001B[0m         \u001B[1;32mfor\u001B[0m \u001B[0mx\u001B[0m \u001B[1;32min\u001B[0m \u001B[0mx\u001B[0m\u001B[1;33m:\u001B[0m\u001B[1;33m\u001B[0m\u001B[1;33m\u001B[0m\u001B[0m\n\u001B[1;32m---> 11\u001B[1;33m             \u001B[0mz\u001B[0m\u001B[1;33m.\u001B[0m\u001B[0mappend\u001B[0m\u001B[1;33m(\u001B[0m\u001B[0mx\u001B[0m\u001B[1;33m.\u001B[0m\u001B[0mset_index\u001B[0m\u001B[1;33m(\u001B[0m\u001B[1;34m'物资名称'\u001B[0m\u001B[1;33m)\u001B[0m\u001B[1;33m.\u001B[0m\u001B[0mto_dict\u001B[0m\u001B[1;33m(\u001B[0m\u001B[1;33m)\u001B[0m\u001B[1;33m)\u001B[0m\u001B[1;33m\u001B[0m\u001B[1;33m\u001B[0m\u001B[0m\n\u001B[0m\u001B[0;32m     12\u001B[0m         \u001B[0mans_list\u001B[0m \u001B[1;33m=\u001B[0m \u001B[1;33m[\u001B[0m\u001B[1;33m]\u001B[0m\u001B[1;33m\u001B[0m\u001B[1;33m\u001B[0m\u001B[0m\n\u001B[0;32m     13\u001B[0m         \u001B[1;32mfor\u001B[0m \u001B[0mj\u001B[0m \u001B[1;32min\u001B[0m \u001B[0mrange\u001B[0m\u001B[1;33m(\u001B[0m\u001B[0mlen\u001B[0m\u001B[1;33m(\u001B[0m\u001B[0mz\u001B[0m\u001B[1;33m)\u001B[0m\u001B[1;33m)\u001B[0m\u001B[1;33m:\u001B[0m\u001B[1;33m\u001B[0m\u001B[1;33m\u001B[0m\u001B[0m\n",
      "\u001B[1;31mAttributeError\u001B[0m: 'str' object has no attribute 'set_index'"
     ]
    }
   ],
   "source": [
    "def search_name_in_resource(key, resource):\n",
    "        # key = '电动三轮车'\n",
    "        # st.title(key)\n",
    "        # key = '不锈钢'\n",
    "        # key = [key]\n",
    "        print(resource['物资名称'].str.contains(key))\n",
    "        x = resource.loc[ resource['物资名称'].str.contains(key)]\n",
    "        # print(x)\n",
    "        return x\n",
    "\n",
    "\n",
    "search_name_in_resource('弹簧', resource)\n"
   ],
   "metadata": {
    "collapsed": false,
    "pycharm": {
     "name": "#%%\n"
    }
   }
  },
  {
   "cell_type": "code",
   "execution_count": 36,
   "outputs": [
    {
     "data": {
      "text/plain": "    Unnamed: 0         日期   班组          物资编码       物资名称  \\\n0            0   2022.8.1  检修组     2.551E+11  弹簧垫圈（4mm）   \n1            1   2022.8.2  综合组       2.5E+11   六角头螺栓-C级   \n2            2   2022.8.3  检修组   14090000389      螺栓松动剂   \n3            3   2022.8.4  乘务队     9.551E+11      电茶炉胶垫   \n4            4   2022.8.5  检修组    5.2081E+11    硒鼓（88A）   \n5            5   2022.8.6  综合组    5.2081E+11   硒鼓（230A）   \n6            6   2022.8.7  乘务队   17400072020    复印纸(A3)   \n7            7   2022.8.8  综合组  E21004002674        地板刷   \n8            8   2022.8.9  综合组  J03003000515        百洁布   \n9            9  2022.8.10  综合组   18840005400        中性笔   \n10          10  2022.8.11  检修组     2.551E+11  弹簧垫圈（4mm）   \n11           0   2022.9.1  乘务组     2.129E+11      电动三轮车   \n\n                        规格型号/图号/材质 计量单位    单价（元）  数量       金额  \\\n0                          4mm 不锈钢   百个     4.00   1     4.00   \n1                   M10×30mm 4.8 钢   百个    27.35   2    54.70   \n2                            250ml    瓶    11.50   2    23.00   \n3                      190×170 10孔    个    48.39   2    96.78   \n4                           HP 88A    个   110.73   2   221.46   \n5                        HP CF230A    支    59.86   2   119.72   \n6   A3 定量70g/㎡ 宽297×长420mm 2000张/箱    箱   194.25   2   388.50   \n7       规格型号:2寸+3.5寸+4寸+5寸实心+5寸空心;    个    50.27   2   100.54   \n8                        规格型号:普通款;    个     2.48   2     4.96   \n9          晨光GP1008 0.5mm 黑色 12支/盒    盒    16.19   2    32.38   \n10                         4mm 不锈钢   百个     4.00  15    60.00   \n11                 1.2m×0.9m 电机48V    辆  4417.70   1  4417.70   \n\n                 科目编号          科目名称  \n0   6401-1-3421-2-1-1           D1修  \n1   6401-1-3421-2-1-1           D1修  \n2   6401-1-3421-2-1-1           D1修  \n3   6401-1-3421-2-1-1           D1修  \n4   6401-1-3615-1-1-1          微机耗材  \n5   6401-1-3615-1-1-1          微机耗材  \n6   6401-1-3615-1-1-1          微机耗材  \n7   6401-1-3421-2-1-1           D1修  \n8   6401-1-3421-2-1-1           D1修  \n9     6401-1-3610-1-2  纸张表格、文具等办公用品  \n10  6401-1-3421-2-1-1           D1修  \n11  6401-1-3421-2-1-1           D1修  ",
      "text/html": "<div>\n<style scoped>\n    .dataframe tbody tr th:only-of-type {\n        vertical-align: middle;\n    }\n\n    .dataframe tbody tr th {\n        vertical-align: top;\n    }\n\n    .dataframe thead th {\n        text-align: right;\n    }\n</style>\n<table border=\"1\" class=\"dataframe\">\n  <thead>\n    <tr style=\"text-align: right;\">\n      <th></th>\n      <th>Unnamed: 0</th>\n      <th>日期</th>\n      <th>班组</th>\n      <th>物资编码</th>\n      <th>物资名称</th>\n      <th>规格型号/图号/材质</th>\n      <th>计量单位</th>\n      <th>单价（元）</th>\n      <th>数量</th>\n      <th>金额</th>\n      <th>科目编号</th>\n      <th>科目名称</th>\n    </tr>\n  </thead>\n  <tbody>\n    <tr>\n      <th>0</th>\n      <td>0</td>\n      <td>2022.8.1</td>\n      <td>检修组</td>\n      <td>2.551E+11</td>\n      <td>弹簧垫圈（4mm）</td>\n      <td>4mm 不锈钢</td>\n      <td>百个</td>\n      <td>4.00</td>\n      <td>1</td>\n      <td>4.00</td>\n      <td>6401-1-3421-2-1-1</td>\n      <td>D1修</td>\n    </tr>\n    <tr>\n      <th>1</th>\n      <td>1</td>\n      <td>2022.8.2</td>\n      <td>综合组</td>\n      <td>2.5E+11</td>\n      <td>六角头螺栓-C级</td>\n      <td>M10×30mm 4.8 钢</td>\n      <td>百个</td>\n      <td>27.35</td>\n      <td>2</td>\n      <td>54.70</td>\n      <td>6401-1-3421-2-1-1</td>\n      <td>D1修</td>\n    </tr>\n    <tr>\n      <th>2</th>\n      <td>2</td>\n      <td>2022.8.3</td>\n      <td>检修组</td>\n      <td>14090000389</td>\n      <td>螺栓松动剂</td>\n      <td>250ml</td>\n      <td>瓶</td>\n      <td>11.50</td>\n      <td>2</td>\n      <td>23.00</td>\n      <td>6401-1-3421-2-1-1</td>\n      <td>D1修</td>\n    </tr>\n    <tr>\n      <th>3</th>\n      <td>3</td>\n      <td>2022.8.4</td>\n      <td>乘务队</td>\n      <td>9.551E+11</td>\n      <td>电茶炉胶垫</td>\n      <td>190×170 10孔</td>\n      <td>个</td>\n      <td>48.39</td>\n      <td>2</td>\n      <td>96.78</td>\n      <td>6401-1-3421-2-1-1</td>\n      <td>D1修</td>\n    </tr>\n    <tr>\n      <th>4</th>\n      <td>4</td>\n      <td>2022.8.5</td>\n      <td>检修组</td>\n      <td>5.2081E+11</td>\n      <td>硒鼓（88A）</td>\n      <td>HP 88A</td>\n      <td>个</td>\n      <td>110.73</td>\n      <td>2</td>\n      <td>221.46</td>\n      <td>6401-1-3615-1-1-1</td>\n      <td>微机耗材</td>\n    </tr>\n    <tr>\n      <th>5</th>\n      <td>5</td>\n      <td>2022.8.6</td>\n      <td>综合组</td>\n      <td>5.2081E+11</td>\n      <td>硒鼓（230A）</td>\n      <td>HP CF230A</td>\n      <td>支</td>\n      <td>59.86</td>\n      <td>2</td>\n      <td>119.72</td>\n      <td>6401-1-3615-1-1-1</td>\n      <td>微机耗材</td>\n    </tr>\n    <tr>\n      <th>6</th>\n      <td>6</td>\n      <td>2022.8.7</td>\n      <td>乘务队</td>\n      <td>17400072020</td>\n      <td>复印纸(A3)</td>\n      <td>A3 定量70g/㎡ 宽297×长420mm 2000张/箱</td>\n      <td>箱</td>\n      <td>194.25</td>\n      <td>2</td>\n      <td>388.50</td>\n      <td>6401-1-3615-1-1-1</td>\n      <td>微机耗材</td>\n    </tr>\n    <tr>\n      <th>7</th>\n      <td>7</td>\n      <td>2022.8.8</td>\n      <td>综合组</td>\n      <td>E21004002674</td>\n      <td>地板刷</td>\n      <td>规格型号:2寸+3.5寸+4寸+5寸实心+5寸空心;</td>\n      <td>个</td>\n      <td>50.27</td>\n      <td>2</td>\n      <td>100.54</td>\n      <td>6401-1-3421-2-1-1</td>\n      <td>D1修</td>\n    </tr>\n    <tr>\n      <th>8</th>\n      <td>8</td>\n      <td>2022.8.9</td>\n      <td>综合组</td>\n      <td>J03003000515</td>\n      <td>百洁布</td>\n      <td>规格型号:普通款;</td>\n      <td>个</td>\n      <td>2.48</td>\n      <td>2</td>\n      <td>4.96</td>\n      <td>6401-1-3421-2-1-1</td>\n      <td>D1修</td>\n    </tr>\n    <tr>\n      <th>9</th>\n      <td>9</td>\n      <td>2022.8.10</td>\n      <td>综合组</td>\n      <td>18840005400</td>\n      <td>中性笔</td>\n      <td>晨光GP1008 0.5mm 黑色 12支/盒</td>\n      <td>盒</td>\n      <td>16.19</td>\n      <td>2</td>\n      <td>32.38</td>\n      <td>6401-1-3610-1-2</td>\n      <td>纸张表格、文具等办公用品</td>\n    </tr>\n    <tr>\n      <th>10</th>\n      <td>10</td>\n      <td>2022.8.11</td>\n      <td>检修组</td>\n      <td>2.551E+11</td>\n      <td>弹簧垫圈（4mm）</td>\n      <td>4mm 不锈钢</td>\n      <td>百个</td>\n      <td>4.00</td>\n      <td>15</td>\n      <td>60.00</td>\n      <td>6401-1-3421-2-1-1</td>\n      <td>D1修</td>\n    </tr>\n    <tr>\n      <th>11</th>\n      <td>0</td>\n      <td>2022.9.1</td>\n      <td>乘务组</td>\n      <td>2.129E+11</td>\n      <td>电动三轮车</td>\n      <td>1.2m×0.9m 电机48V</td>\n      <td>辆</td>\n      <td>4417.70</td>\n      <td>1</td>\n      <td>4417.70</td>\n      <td>6401-1-3421-2-1-1</td>\n      <td>D1修</td>\n    </tr>\n  </tbody>\n</table>\n</div>"
     },
     "execution_count": 36,
     "metadata": {},
     "output_type": "execute_result"
    }
   ],
   "source": [
    "temp  ={}\n",
    "for i in full.keys():\n",
    "    temp[i] = ['0']\n",
    "full"
   ],
   "metadata": {
    "collapsed": false,
    "pycharm": {
     "name": "#%%\n"
    }
   }
  }
 ],
 "metadata": {
  "kernelspec": {
   "display_name": "Python 3",
   "language": "python",
   "name": "python3"
  },
  "language_info": {
   "codemirror_mode": {
    "name": "ipython",
    "version": 2
   },
   "file_extension": ".py",
   "mimetype": "text/x-python",
   "name": "python",
   "nbconvert_exporter": "python",
   "pygments_lexer": "ipython2",
   "version": "2.7.6"
  }
 },
 "nbformat": 4,
 "nbformat_minor": 0
}